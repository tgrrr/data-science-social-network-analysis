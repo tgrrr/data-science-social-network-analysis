{
  "cells": [
    {
      "cell_type": "code",
      "source": [
        "import json\n",
        "from os import listdir\n",
        "import networkx as nx\n",
        "import matplotlib.pyplot as plt\n",
        "from matplotlib.pyplot import figure\n",
        "from collections import Counter\n",
        "import pandas as pd\n",
        "import numpy as np\n",
        "import sys\n",
        "import altair as alt"
      ],
      "outputs": [],
      "execution_count": 2,
      "metadata": {}
    },
    {
      "cell_type": "code",
      "source": [
        "# Get list of json files in directory\n",
        "files_in_drive = listdir()\n",
        "json_files = []\n",
        "for ix, file in enumerate(files_in_drive):\n",
        "    if('.json' in file):\n",
        "        json_files.append(file)\n",
        "   \n",
        "# Remove files if wanted\n",
        "rm = []\n",
        "# rm.append(['linux', 'ipython', 'spark', 'node']) # cosc\n",
        "# rm.append(['django', 'keras', 'tensorflow', 'pandas', 'scikit-learn']) # Python\n",
        "# rm.append(['ggplot2', 'tidyverse']) # R\n",
        "for layer in rm:\n",
        "    for f in layer:\n",
        "        json_files.remove(f+\".json\")\n",
        "json_files"
      ],
      "outputs": [
        {
          "output_type": "execute_result",
          "execution_count": 3,
          "data": {
            "text/plain": [
              "['scikit-learn.json',\n",
              " 'linux.json',\n",
              " 'ipython.json',\n",
              " 'node.json',\n",
              " 'django.json',\n",
              " 'tensorflow.json',\n",
              " 'tidyverse.json',\n",
              " 'ggplot2.json',\n",
              " 'keras.json',\n",
              " 'spark.json',\n",
              " 'pandas.json']"
            ]
          },
          "metadata": {}
        }
      ],
      "execution_count": 3,
      "metadata": {}
    },
    {
      "cell_type": "code",
      "source": [
        "# Prepare keys for dictionary\n",
        "file_names = []\n",
        "for file in json_files:\n",
        "    start = file.find('.')\n",
        "    file_names.append(file[0:start])"
      ],
      "outputs": [],
      "execution_count": 4,
      "metadata": {}
    },
    {
      "cell_type": "code",
      "source": [
        "# Put all json data into dictionary\n",
        "data = {}\n",
        "for ix, file in enumerate(json_files):\n",
        "    tmp = json.loads(open(file, encoding=\"utf-8\").read())\n",
        "    data[file_names[ix]] = tmp['data']['repository']['ref']['target']['history']['edges']"
      ],
      "outputs": [],
      "execution_count": 5,
      "metadata": {}
    },
    {
      "cell_type": "code",
      "source": [
        "# Data Helpers\n",
        "repo_user_list = {}\n",
        "repo_weight = {}\n",
        "\n",
        "for repo in data:\n",
        "    ix = 0\n",
        "    user_list = []\n",
        "    weight = []\n",
        "    while ix < len(data[repo]):\n",
        "        try:\n",
        "            user = data[repo][ix]['node']['author']['user']['login']\n",
        "            weight.append(user)\n",
        "            user_list.append(user)\n",
        "        except:\n",
        "            pass\n",
        "        ix += 1\n",
        "    repo_user_list[repo] = list(set(user_list))\n",
        "    repo_weight[repo] = Counter(weight)"
      ],
      "outputs": [],
      "execution_count": 6,
      "metadata": {}
    },
    {
      "cell_type": "code",
      "source": [
        "print(\"Top contributors for each repo\\n\")\n",
        "for repo in repo_weight:\n",
        "    print(repo + \": \" + str(repo_weight[repo].most_common(5)))"
      ],
      "outputs": [
        {
          "output_type": "stream",
          "name": "stdout",
          "text": [
            "Top contributors for each repo\n",
            "\n",
            "scikit-learn: [('NicolasHug', 12), ('thomasjpfan', 9), ('adrinjalali', 7), ('cmarmo', 5), ('glemaitre', 5)]\n",
            "linux: [('AlexGhiti', 14), ('liu-song-6', 13), ('davidhildenbrand', 10), ('torvalds', 5), ('yang-shi', 4)]\n",
            "ipython: [('Carreau', 77), ('terrdavis', 6), ('minho42', 2), ('oscargus', 2), ('brandonwillard', 2)]\n",
            "node: [('addaleax', 18), ('ronag', 12), ('ckarande', 4), ('mhdawson', 4), ('cclauss', 3)]\n",
            "django: [('felixxm', 30), ('carltongibson', 11), ('pope1ni', 6), ('claudep', 5), ('charettes', 5)]\n",
            "tensorflow: [('tensorflower-gardener', 28), ('bmzhao', 7), ('allenlavoie', 4), ('haozha111', 4), ('chsigg', 3)]\n",
            "tidyverse: [('hadley', 27), ('batpigandme', 22), ('jennybc', 7), ('krlmlr', 1), ('romainfrancois', 1)]\n",
            "ggplot2: [('paleolimbot', 29), ('thomasp85', 23), ('yutannihilation', 8), ('batpigandme', 4), ('clauswilke', 2)]\n",
            "keras: [('fchollet', 67), ('pavithrasv', 11), ('gabrieldemarmiesse', 2), ('farizrahman4u', 2), ('djstrong', 1)]\n",
            "spark: [('dongjoon-hyun', 11), ('HeartSaVioR', 8), ('MaxGekk', 8), ('wangyum', 6), ('zhengruifeng', 4)]\n",
            "pandas: [('jbrockmendel', 36), ('jorisvandenbossche', 6), ('TomAugspurger', 6), ('dsaxton', 5), ('datapythonista', 5)]\n"
          ]
        }
      ],
      "execution_count": 7,
      "metadata": {}
    },
    {
      "cell_type": "code",
      "source": [
        "print(\"Number of unique contributors for each Repo\\n\")\n",
        "for repo in repo_weight:\n",
        "    print(repo + \": \" + str(len(repo_weight[repo])))"
      ],
      "outputs": [
        {
          "output_type": "stream",
          "name": "stdout",
          "text": [
            "Number of unique contributors for each Repo\n",
            "\n",
            "scikit-learn: 48\n",
            "linux: 26\n",
            "ipython: 16\n",
            "node: 49\n",
            "django: 32\n",
            "tensorflow: 46\n",
            "tidyverse: 10\n",
            "ggplot2: 31\n",
            "keras: 21\n",
            "spark: 46\n",
            "pandas: 38\n"
          ]
        }
      ],
      "execution_count": 8,
      "metadata": {}
    },
    {
      "cell_type": "code",
      "source": [
        "user_contributions = {}\n",
        "\n",
        "for repo in repo_user_list:\n",
        "    for user in repo_user_list[repo]:\n",
        "        if (user not in user_contributions):\n",
        "            user_contributions[user] = str(repo)\n",
        "        else:\n",
        "            tmp = str(user_contributions[user] + \" \" + repo).split(\" \")\n",
        "            user_contributions[user] = tmp\n",
        "\n",
        "print(\"Coders who contribute to more than one repo\\n\")\n",
        "for user in user_contributions:\n",
        "    if type(user_contributions[user]) != str:\n",
        "        print(user + \": \" + str(user_contributions[user]))"
      ],
      "outputs": [
        {
          "output_type": "stream",
          "name": "stdout",
          "text": [
            "Coders who contribute to more than one repo\n",
            "\n",
            "minho42: ['ipython', 'django']\n",
            "hadley: ['tidyverse', 'ggplot2']\n",
            "batpigandme: ['tidyverse', 'ggplot2']\n",
            "karawoo: ['tidyverse', 'ggplot2']\n",
            "topepo: ['tidyverse', 'ggplot2']\n"
          ]
        }
      ],
      "execution_count": 9,
      "metadata": {}
    },
    {
      "cell_type": "code",
      "source": [
        "number_of_contributions = Counter()\n",
        "for repo in repo_weight:\n",
        "    for user in repo_weight[repo]:\n",
        "        number_of_contributions[user] += repo_weight[repo][user]"
      ],
      "outputs": [],
      "execution_count": 10,
      "metadata": {}
    },
    {
      "cell_type": "code",
      "source": [
        "network_weight = nx.Graph()\n",
        "\n",
        "for repo in repo_weight:\n",
        "    size = sum(repo_weight[repo].values())\n",
        "    network_weight.add_node(repo, repo=repo, size=size, l=repo)\n",
        "\n",
        "for user in user_contributions:\n",
        "    repo = user_contributions[user]\n",
        "    if type(repo) == str:\n",
        "#         size = number_of_contributions[user]\n",
        "        weight = repo_weight[repo][user]\n",
        "        network_weight.add_node(user, repo=repo)\n",
        "        network_weight.add_edge(repo, user, weight=weight)\n",
        "    else:\n",
        "#         size = number_of_contributions[user]\n",
        "        network_weight.add_node(user, repo='multiple', size = 20, l=user)\n",
        "        for contribution in repo:              \n",
        "            weight = repo_weight[contribution][user]\n",
        "            network_weight.add_edge(contribution, user, weight=weight)"
      ],
      "outputs": [],
      "execution_count": 11,
      "metadata": {}
    },
    {
      "cell_type": "code",
      "source": [
        "network_weight = nx.Graph()\n",
        "\n",
        "for repo in repo_weight:\n",
        "    network_weight.add_node(repo, repo=repo)\n",
        "    for user in repo_weight[repo]:\n",
        "        if (network_weight.has_node(user)) == False:\n",
        "            network_weight.add_node(user, repo='multiple')\n",
        "            network_weight.add_edge(repo, user, weight=repo_weight[repo][user])\n",
        "        else:\n",
        "            network_weight.add_node(user, repo=repo)\n",
        "            network_weight.add_edge(repo, user, weight=repo_weight[repo][user])"
      ],
      "outputs": [],
      "execution_count": 12,
      "metadata": {}
    },
    {
      "cell_type": "code",
      "source": [
        "# degree centrality\n",
        "lDegCentrality = nx.degree_centrality(network_weight)\n",
        "for nodeId, cent in lDegCentrality.items():\n",
        "    network_weight.node[nodeId]['degree'] = float(cent)\n",
        "    \n",
        "# eigenvector centrality\n",
        "# eigen vector centrality make sno sense on bi-partite graphs\n",
        "# https://stackoverflow.com/questions/43208737/using-networkx-to-calculate-eigenvector-centrality?rq=1\n",
        "lEigenVectorCentrality = nx.eigenvector_centrality_numpy(network_weight)\n",
        "for nodeId, cent in lEigenVectorCentrality.items():\n",
        "    network_weight.node[nodeId]['eigen'] = float(cent)\n",
        "    \n",
        "# katz centrality\n",
        "lKatzCentrality = nx.katz_centrality(network_weight)    \n",
        "for nodeId, cent in lKatzCentrality.items():\n",
        "    network_weight.node[nodeId]['katz'] = float(cent)\n",
        "\n",
        "# Betweeness centrality\n",
        "lBetCentrality = nx.betweenness_centrality(network_weight)\n",
        "for nodeId, cent in lBetCentrality.items():\n",
        "    network_weight.node[nodeId]['betweenness'] = float(cent)"
      ],
      "outputs": [],
      "execution_count": 13,
      "metadata": {}
    },
    {
      "cell_type": "code",
      "source": [
        "for g in nx.local_bridges(network_weight, with_span=True, weight=None):\n",
        "    if g[2] < 100:\n",
        "        print(g)"
      ],
      "outputs": [
        {
          "output_type": "stream",
          "name": "stdout",
          "text": [
            "('tidyverse', 'batpigandme', 3)\n",
            "('tidyverse', 'hadley', 3)\n",
            "('tidyverse', 'topepo', 3)\n",
            "('tidyverse', 'karawoo', 3)\n",
            "('batpigandme', 'ggplot2', 3)\n",
            "('hadley', 'ggplot2', 3)\n",
            "('topepo', 'ggplot2', 3)\n",
            "('karawoo', 'ggplot2', 3)\n"
          ]
        }
      ],
      "execution_count": 14,
      "metadata": {}
    },
    {
      "cell_type": "code",
      "source": [
        "# Generating Data\n",
        "source = pd.DataFrame({\n",
        "    'Degree Centrality': list(lDegCentrality.values()),\n",
        "#     'Eigenvector Centrality': list(lEigenVectorCentrality.values()),\n",
        "    'Betweenness Centrality': list(lBetCentrality.values()),\n",
        "    'Katz Centrality': list(lKatzCentrality.values())\n",
        "})\n",
        "\n",
        "chart = alt.Chart(source).transform_fold(\n",
        "    ['Degree Centrality', 'Betweenness Centrality', 'Katz Centrality'],\n",
        "    as_=['Centrality', 'Measurement']\n",
        ").mark_area(\n",
        "    opacity=0.7,\n",
        "    interpolate='step'\n",
        ").encode(\n",
        "    alt.X('Measurement:Q', bin=alt.Bin(maxbins=50)),\n",
        "    alt.Y('count()', stack=None),\n",
        "    alt.Color('Centrality:N')\n",
        ")\n",
        "\n",
        "chart.configure_legend(\n",
        "    strokeColor='gray',\n",
        "    fillColor='#EEEEEE',\n",
        "    padding=10,\n",
        "    cornerRadius=10,\n",
        "    orient='top-right'\n",
        ")"
      ],
      "outputs": [
        {
          "output_type": "execute_result",
          "execution_count": 15,
          "data": {
            "application/vnd.vegalite.v3+json": {
              "$schema": "https://vega.github.io/schema/vega-lite/v3.3.0.json",
              "config": {
                "legend": {
                  "cornerRadius": 10,
                  "fillColor": "#EEEEEE",
                  "orient": "top-right",
                  "padding": 10,
                  "strokeColor": "gray"
                },
                "mark": {
                  "tooltip": null
                },
                "view": {
                  "height": 300,
                  "width": 400
                }
              },
              "data": {
                "name": "data-9a82cea54d07bf0fe075897d60cd9221"
              },
              "datasets": {
                "data-9a82cea54d07bf0fe075897d60cd9221": [
                  {
                    "Betweenness Centrality": 0.016704181968961025,
                    "Degree Centrality": 0.13043478260869565,
                    "Katz Centrality": 0.2551455925690741
                  },
                  {
                    "Betweenness Centrality": 0,
                    "Degree Centrality": 0.002717391304347826,
                    "Katz Centrality": 0.04838968134930713
                  },
                  {
                    "Betweenness Centrality": 0,
                    "Degree Centrality": 0.002717391304347826,
                    "Katz Centrality": 0.04838968134930713
                  },
                  {
                    "Betweenness Centrality": 0,
                    "Degree Centrality": 0.002717391304347826,
                    "Katz Centrality": 0.04838968134930713
                  },
                  {
                    "Betweenness Centrality": 0,
                    "Degree Centrality": 0.002717391304347826,
                    "Katz Centrality": 0.04838968134930713
                  },
                  {
                    "Betweenness Centrality": 0,
                    "Degree Centrality": 0.002717391304347826,
                    "Katz Centrality": 0.04838968134930713
                  },
                  {
                    "Betweenness Centrality": 0,
                    "Degree Centrality": 0.002717391304347826,
                    "Katz Centrality": 0.04838968134930713
                  },
                  {
                    "Betweenness Centrality": 0,
                    "Degree Centrality": 0.002717391304347826,
                    "Katz Centrality": 0.04838968134930713
                  },
                  {
                    "Betweenness Centrality": 0,
                    "Degree Centrality": 0.002717391304347826,
                    "Katz Centrality": 0.04838968134930713
                  },
                  {
                    "Betweenness Centrality": 0,
                    "Degree Centrality": 0.002717391304347826,
                    "Katz Centrality": 0.04838968134930713
                  },
                  {
                    "Betweenness Centrality": 0,
                    "Degree Centrality": 0.002717391304347826,
                    "Katz Centrality": 0.04838968134930713
                  },
                  {
                    "Betweenness Centrality": 0,
                    "Degree Centrality": 0.002717391304347826,
                    "Katz Centrality": 0.04838968134930713
                  },
                  {
                    "Betweenness Centrality": 0,
                    "Degree Centrality": 0.002717391304347826,
                    "Katz Centrality": 0.04838968134930713
                  },
                  {
                    "Betweenness Centrality": 0,
                    "Degree Centrality": 0.002717391304347826,
                    "Katz Centrality": 0.04838968134930713
                  },
                  {
                    "Betweenness Centrality": 0,
                    "Degree Centrality": 0.002717391304347826,
                    "Katz Centrality": 0.04838968134930713
                  },
                  {
                    "Betweenness Centrality": 0,
                    "Degree Centrality": 0.002717391304347826,
                    "Katz Centrality": 0.04838968134930713
                  },
                  {
                    "Betweenness Centrality": 0,
                    "Degree Centrality": 0.002717391304347826,
                    "Katz Centrality": 0.04838968134930713
                  },
                  {
                    "Betweenness Centrality": 0,
                    "Degree Centrality": 0.002717391304347826,
                    "Katz Centrality": 0.04838968134930713
                  },
                  {
                    "Betweenness Centrality": 0,
                    "Degree Centrality": 0.002717391304347826,
                    "Katz Centrality": 0.04838968134930713
                  },
                  {
                    "Betweenness Centrality": 0,
                    "Degree Centrality": 0.002717391304347826,
                    "Katz Centrality": 0.04838968134930713
                  },
                  {
                    "Betweenness Centrality": 0,
                    "Degree Centrality": 0.002717391304347826,
                    "Katz Centrality": 0.04838968134930713
                  },
                  {
                    "Betweenness Centrality": 0,
                    "Degree Centrality": 0.002717391304347826,
                    "Katz Centrality": 0.04838968134930713
                  },
                  {
                    "Betweenness Centrality": 0,
                    "Degree Centrality": 0.002717391304347826,
                    "Katz Centrality": 0.04838968134930713
                  },
                  {
                    "Betweenness Centrality": 0,
                    "Degree Centrality": 0.002717391304347826,
                    "Katz Centrality": 0.04838968134930713
                  },
                  {
                    "Betweenness Centrality": 0,
                    "Degree Centrality": 0.002717391304347826,
                    "Katz Centrality": 0.04838968134930713
                  },
                  {
                    "Betweenness Centrality": 0,
                    "Degree Centrality": 0.002717391304347826,
                    "Katz Centrality": 0.04838968134930713
                  },
                  {
                    "Betweenness Centrality": 0,
                    "Degree Centrality": 0.002717391304347826,
                    "Katz Centrality": 0.04838968134930713
                  },
                  {
                    "Betweenness Centrality": 0,
                    "Degree Centrality": 0.002717391304347826,
                    "Katz Centrality": 0.04838968134930713
                  },
                  {
                    "Betweenness Centrality": 0,
                    "Degree Centrality": 0.002717391304347826,
                    "Katz Centrality": 0.04838968134930713
                  },
                  {
                    "Betweenness Centrality": 0,
                    "Degree Centrality": 0.002717391304347826,
                    "Katz Centrality": 0.04838968134930713
                  },
                  {
                    "Betweenness Centrality": 0,
                    "Degree Centrality": 0.002717391304347826,
                    "Katz Centrality": 0.04838968134930713
                  },
                  {
                    "Betweenness Centrality": 0,
                    "Degree Centrality": 0.002717391304347826,
                    "Katz Centrality": 0.04838968134930713
                  },
                  {
                    "Betweenness Centrality": 0,
                    "Degree Centrality": 0.002717391304347826,
                    "Katz Centrality": 0.04838968134930713
                  },
                  {
                    "Betweenness Centrality": 0,
                    "Degree Centrality": 0.002717391304347826,
                    "Katz Centrality": 0.04838968134930713
                  },
                  {
                    "Betweenness Centrality": 0,
                    "Degree Centrality": 0.002717391304347826,
                    "Katz Centrality": 0.04838968134930713
                  },
                  {
                    "Betweenness Centrality": 0,
                    "Degree Centrality": 0.002717391304347826,
                    "Katz Centrality": 0.04838968134930713
                  },
                  {
                    "Betweenness Centrality": 0,
                    "Degree Centrality": 0.002717391304347826,
                    "Katz Centrality": 0.04838968134930713
                  },
                  {
                    "Betweenness Centrality": 0,
                    "Degree Centrality": 0.002717391304347826,
                    "Katz Centrality": 0.04838968134930713
                  },
                  {
                    "Betweenness Centrality": 0,
                    "Degree Centrality": 0.002717391304347826,
                    "Katz Centrality": 0.04838968134930713
                  },
                  {
                    "Betweenness Centrality": 0,
                    "Degree Centrality": 0.002717391304347826,
                    "Katz Centrality": 0.04838968134930713
                  },
                  {
                    "Betweenness Centrality": 0,
                    "Degree Centrality": 0.002717391304347826,
                    "Katz Centrality": 0.04838968134930713
                  },
                  {
                    "Betweenness Centrality": 0,
                    "Degree Centrality": 0.002717391304347826,
                    "Katz Centrality": 0.04838968134930713
                  },
                  {
                    "Betweenness Centrality": 0,
                    "Degree Centrality": 0.002717391304347826,
                    "Katz Centrality": 0.04838968134930713
                  },
                  {
                    "Betweenness Centrality": 0,
                    "Degree Centrality": 0.002717391304347826,
                    "Katz Centrality": 0.04838968134930713
                  },
                  {
                    "Betweenness Centrality": 0,
                    "Degree Centrality": 0.002717391304347826,
                    "Katz Centrality": 0.04838968134930713
                  },
                  {
                    "Betweenness Centrality": 0,
                    "Degree Centrality": 0.002717391304347826,
                    "Katz Centrality": 0.04838968134930713
                  },
                  {
                    "Betweenness Centrality": 0,
                    "Degree Centrality": 0.002717391304347826,
                    "Katz Centrality": 0.04838968134930713
                  },
                  {
                    "Betweenness Centrality": 0,
                    "Degree Centrality": 0.002717391304347826,
                    "Katz Centrality": 0.04838968134930713
                  },
                  {
                    "Betweenness Centrality": 0,
                    "Degree Centrality": 0.002717391304347826,
                    "Katz Centrality": 0.04838968134930713
                  },
                  {
                    "Betweenness Centrality": 0.0048128183864471034,
                    "Degree Centrality": 0.07065217391304347,
                    "Katz Centrality": 0.1112848019012063
                  },
                  {
                    "Betweenness Centrality": 0,
                    "Degree Centrality": 0.002717391304347826,
                    "Katz Centrality": 0.034003689469813025
                  },
                  {
                    "Betweenness Centrality": 0,
                    "Degree Centrality": 0.002717391304347826,
                    "Katz Centrality": 0.034003689469813025
                  },
                  {
                    "Betweenness Centrality": 0,
                    "Degree Centrality": 0.002717391304347826,
                    "Katz Centrality": 0.034003689469813025
                  },
                  {
                    "Betweenness Centrality": 0,
                    "Degree Centrality": 0.002717391304347826,
                    "Katz Centrality": 0.034003689469813025
                  },
                  {
                    "Betweenness Centrality": 0,
                    "Degree Centrality": 0.002717391304347826,
                    "Katz Centrality": 0.034003689469813025
                  },
                  {
                    "Betweenness Centrality": 0,
                    "Degree Centrality": 0.002717391304347826,
                    "Katz Centrality": 0.034003689469813025
                  },
                  {
                    "Betweenness Centrality": 0,
                    "Degree Centrality": 0.002717391304347826,
                    "Katz Centrality": 0.034003689469813025
                  },
                  {
                    "Betweenness Centrality": 0,
                    "Degree Centrality": 0.002717391304347826,
                    "Katz Centrality": 0.034003689469813025
                  },
                  {
                    "Betweenness Centrality": 0,
                    "Degree Centrality": 0.002717391304347826,
                    "Katz Centrality": 0.034003689469813025
                  },
                  {
                    "Betweenness Centrality": 0,
                    "Degree Centrality": 0.002717391304347826,
                    "Katz Centrality": 0.034003689469813025
                  },
                  {
                    "Betweenness Centrality": 0,
                    "Degree Centrality": 0.002717391304347826,
                    "Katz Centrality": 0.034003689469813025
                  },
                  {
                    "Betweenness Centrality": 0,
                    "Degree Centrality": 0.002717391304347826,
                    "Katz Centrality": 0.034003689469813025
                  },
                  {
                    "Betweenness Centrality": 0,
                    "Degree Centrality": 0.002717391304347826,
                    "Katz Centrality": 0.034003689469813025
                  },
                  {
                    "Betweenness Centrality": 0,
                    "Degree Centrality": 0.002717391304347826,
                    "Katz Centrality": 0.034003689469813025
                  },
                  {
                    "Betweenness Centrality": 0,
                    "Degree Centrality": 0.002717391304347826,
                    "Katz Centrality": 0.034003689469813025
                  },
                  {
                    "Betweenness Centrality": 0,
                    "Degree Centrality": 0.002717391304347826,
                    "Katz Centrality": 0.034003689469813025
                  },
                  {
                    "Betweenness Centrality": 0,
                    "Degree Centrality": 0.002717391304347826,
                    "Katz Centrality": 0.034003689469813025
                  },
                  {
                    "Betweenness Centrality": 0,
                    "Degree Centrality": 0.002717391304347826,
                    "Katz Centrality": 0.034003689469813025
                  },
                  {
                    "Betweenness Centrality": 0,
                    "Degree Centrality": 0.002717391304347826,
                    "Katz Centrality": 0.034003689469813025
                  },
                  {
                    "Betweenness Centrality": 0,
                    "Degree Centrality": 0.002717391304347826,
                    "Katz Centrality": 0.034003689469813025
                  },
                  {
                    "Betweenness Centrality": 0,
                    "Degree Centrality": 0.002717391304347826,
                    "Katz Centrality": 0.034003689469813025
                  },
                  {
                    "Betweenness Centrality": 0,
                    "Degree Centrality": 0.002717391304347826,
                    "Katz Centrality": 0.034003689469813025
                  },
                  {
                    "Betweenness Centrality": 0,
                    "Degree Centrality": 0.002717391304347826,
                    "Katz Centrality": 0.034003689469813025
                  },
                  {
                    "Betweenness Centrality": 0,
                    "Degree Centrality": 0.002717391304347826,
                    "Katz Centrality": 0.034003689469813025
                  },
                  {
                    "Betweenness Centrality": 0,
                    "Degree Centrality": 0.002717391304347826,
                    "Katz Centrality": 0.034003689469813025
                  },
                  {
                    "Betweenness Centrality": 0,
                    "Degree Centrality": 0.002717391304347826,
                    "Katz Centrality": 0.034003689469813025
                  },
                  {
                    "Betweenness Centrality": 0.008885203174979268,
                    "Degree Centrality": 0.043478260869565216,
                    "Katz Centrality": 0.07249891223977814
                  },
                  {
                    "Betweenness Centrality": 0,
                    "Degree Centrality": 0.002717391304347826,
                    "Katz Centrality": 0.030125100500425543
                  },
                  {
                    "Betweenness Centrality": 0,
                    "Degree Centrality": 0.002717391304347826,
                    "Katz Centrality": 0.030125100500425543
                  },
                  {
                    "Betweenness Centrality": 0,
                    "Degree Centrality": 0.002717391304347826,
                    "Katz Centrality": 0.030125100500425543
                  },
                  {
                    "Betweenness Centrality": 0,
                    "Degree Centrality": 0.002717391304347826,
                    "Katz Centrality": 0.030125100500425543
                  },
                  {
                    "Betweenness Centrality": 0,
                    "Degree Centrality": 0.002717391304347826,
                    "Katz Centrality": 0.030125100500425543
                  },
                  {
                    "Betweenness Centrality": 0,
                    "Degree Centrality": 0.002717391304347826,
                    "Katz Centrality": 0.030125100500425543
                  },
                  {
                    "Betweenness Centrality": 0.0075820400426489755,
                    "Degree Centrality": 0.005434782608695652,
                    "Katz Centrality": 0.0443605221288008
                  },
                  {
                    "Betweenness Centrality": 0,
                    "Degree Centrality": 0.002717391304347826,
                    "Katz Centrality": 0.030125100500425543
                  },
                  {
                    "Betweenness Centrality": 0,
                    "Degree Centrality": 0.002717391304347826,
                    "Katz Centrality": 0.030125100500425543
                  },
                  {
                    "Betweenness Centrality": 0,
                    "Degree Centrality": 0.002717391304347826,
                    "Katz Centrality": 0.030125100500425543
                  },
                  {
                    "Betweenness Centrality": 0,
                    "Degree Centrality": 0.002717391304347826,
                    "Katz Centrality": 0.030125100500425543
                  },
                  {
                    "Betweenness Centrality": 0,
                    "Degree Centrality": 0.002717391304347826,
                    "Katz Centrality": 0.030125100500425543
                  },
                  {
                    "Betweenness Centrality": 0,
                    "Degree Centrality": 0.002717391304347826,
                    "Katz Centrality": 0.030125100500425543
                  },
                  {
                    "Betweenness Centrality": 0,
                    "Degree Centrality": 0.002717391304347826,
                    "Katz Centrality": 0.030125100500425543
                  },
                  {
                    "Betweenness Centrality": 0,
                    "Degree Centrality": 0.002717391304347826,
                    "Katz Centrality": 0.030125100500425543
                  },
                  {
                    "Betweenness Centrality": 0,
                    "Degree Centrality": 0.002717391304347826,
                    "Katz Centrality": 0.030125100500425543
                  },
                  {
                    "Betweenness Centrality": 0.017414998222959367,
                    "Degree Centrality": 0.1331521739130435,
                    "Katz Centrality": 0.26463334192713245
                  },
                  {
                    "Betweenness Centrality": 0,
                    "Degree Centrality": 0.002717391304347826,
                    "Katz Centrality": 0.04933841968132984
                  },
                  {
                    "Betweenness Centrality": 0,
                    "Degree Centrality": 0.002717391304347826,
                    "Katz Centrality": 0.04933841968132984
                  },
                  {
                    "Betweenness Centrality": 0,
                    "Degree Centrality": 0.002717391304347826,
                    "Katz Centrality": 0.04933841968132984
                  },
                  {
                    "Betweenness Centrality": 0,
                    "Degree Centrality": 0.002717391304347826,
                    "Katz Centrality": 0.04933841968132984
                  },
                  {
                    "Betweenness Centrality": 0,
                    "Degree Centrality": 0.002717391304347826,
                    "Katz Centrality": 0.04933841968132984
                  },
                  {
                    "Betweenness Centrality": 0,
                    "Degree Centrality": 0.002717391304347826,
                    "Katz Centrality": 0.04933841968132984
                  },
                  {
                    "Betweenness Centrality": 0,
                    "Degree Centrality": 0.002717391304347826,
                    "Katz Centrality": 0.04933841968132984
                  },
                  {
                    "Betweenness Centrality": 0,
                    "Degree Centrality": 0.002717391304347826,
                    "Katz Centrality": 0.04933841968132984
                  },
                  {
                    "Betweenness Centrality": 0,
                    "Degree Centrality": 0.002717391304347826,
                    "Katz Centrality": 0.04933841968132984
                  },
                  {
                    "Betweenness Centrality": 0,
                    "Degree Centrality": 0.002717391304347826,
                    "Katz Centrality": 0.04933841968132984
                  },
                  {
                    "Betweenness Centrality": 0,
                    "Degree Centrality": 0.002717391304347826,
                    "Katz Centrality": 0.04933841968132984
                  },
                  {
                    "Betweenness Centrality": 0,
                    "Degree Centrality": 0.002717391304347826,
                    "Katz Centrality": 0.04933841968132984
                  },
                  {
                    "Betweenness Centrality": 0,
                    "Degree Centrality": 0.002717391304347826,
                    "Katz Centrality": 0.04933841968132984
                  },
                  {
                    "Betweenness Centrality": 0,
                    "Degree Centrality": 0.002717391304347826,
                    "Katz Centrality": 0.04933841968132984
                  },
                  {
                    "Betweenness Centrality": 0,
                    "Degree Centrality": 0.002717391304347826,
                    "Katz Centrality": 0.04933841968132984
                  },
                  {
                    "Betweenness Centrality": 0,
                    "Degree Centrality": 0.002717391304347826,
                    "Katz Centrality": 0.04933841968132984
                  },
                  {
                    "Betweenness Centrality": 0,
                    "Degree Centrality": 0.002717391304347826,
                    "Katz Centrality": 0.04933841968132984
                  },
                  {
                    "Betweenness Centrality": 0,
                    "Degree Centrality": 0.002717391304347826,
                    "Katz Centrality": 0.04933841968132984
                  },
                  {
                    "Betweenness Centrality": 0,
                    "Degree Centrality": 0.002717391304347826,
                    "Katz Centrality": 0.04933841968132984
                  },
                  {
                    "Betweenness Centrality": 0,
                    "Degree Centrality": 0.002717391304347826,
                    "Katz Centrality": 0.04933841968132984
                  },
                  {
                    "Betweenness Centrality": 0,
                    "Degree Centrality": 0.002717391304347826,
                    "Katz Centrality": 0.04933841968132984
                  },
                  {
                    "Betweenness Centrality": 0,
                    "Degree Centrality": 0.002717391304347826,
                    "Katz Centrality": 0.04933841968132984
                  },
                  {
                    "Betweenness Centrality": 0,
                    "Degree Centrality": 0.002717391304347826,
                    "Katz Centrality": 0.04933841968132984
                  },
                  {
                    "Betweenness Centrality": 0,
                    "Degree Centrality": 0.002717391304347826,
                    "Katz Centrality": 0.04933841968132984
                  },
                  {
                    "Betweenness Centrality": 0,
                    "Degree Centrality": 0.002717391304347826,
                    "Katz Centrality": 0.04933841968132984
                  },
                  {
                    "Betweenness Centrality": 0,
                    "Degree Centrality": 0.002717391304347826,
                    "Katz Centrality": 0.04933841968132984
                  },
                  {
                    "Betweenness Centrality": 0,
                    "Degree Centrality": 0.002717391304347826,
                    "Katz Centrality": 0.04933841968132984
                  },
                  {
                    "Betweenness Centrality": 0,
                    "Degree Centrality": 0.002717391304347826,
                    "Katz Centrality": 0.04933841968132984
                  },
                  {
                    "Betweenness Centrality": 0,
                    "Degree Centrality": 0.002717391304347826,
                    "Katz Centrality": 0.04933841968132984
                  },
                  {
                    "Betweenness Centrality": 0,
                    "Degree Centrality": 0.002717391304347826,
                    "Katz Centrality": 0.04933841968132984
                  },
                  {
                    "Betweenness Centrality": 0,
                    "Degree Centrality": 0.002717391304347826,
                    "Katz Centrality": 0.04933841968132984
                  },
                  {
                    "Betweenness Centrality": 0,
                    "Degree Centrality": 0.002717391304347826,
                    "Katz Centrality": 0.04933841968132984
                  },
                  {
                    "Betweenness Centrality": 0,
                    "Degree Centrality": 0.002717391304347826,
                    "Katz Centrality": 0.04933841968132984
                  },
                  {
                    "Betweenness Centrality": 0,
                    "Degree Centrality": 0.002717391304347826,
                    "Katz Centrality": 0.04933841968132984
                  },
                  {
                    "Betweenness Centrality": 0,
                    "Degree Centrality": 0.002717391304347826,
                    "Katz Centrality": 0.04933841968132984
                  },
                  {
                    "Betweenness Centrality": 0,
                    "Degree Centrality": 0.002717391304347826,
                    "Katz Centrality": 0.04933841968132984
                  },
                  {
                    "Betweenness Centrality": 0,
                    "Degree Centrality": 0.002717391304347826,
                    "Katz Centrality": 0.04933841968132984
                  },
                  {
                    "Betweenness Centrality": 0,
                    "Degree Centrality": 0.002717391304347826,
                    "Katz Centrality": 0.04933841968132984
                  },
                  {
                    "Betweenness Centrality": 0,
                    "Degree Centrality": 0.002717391304347826,
                    "Katz Centrality": 0.04933841968132984
                  },
                  {
                    "Betweenness Centrality": 0,
                    "Degree Centrality": 0.002717391304347826,
                    "Katz Centrality": 0.04933841968132984
                  },
                  {
                    "Betweenness Centrality": 0,
                    "Degree Centrality": 0.002717391304347826,
                    "Katz Centrality": 0.04933841968132984
                  },
                  {
                    "Betweenness Centrality": 0,
                    "Degree Centrality": 0.002717391304347826,
                    "Katz Centrality": 0.04933841968132984
                  },
                  {
                    "Betweenness Centrality": 0,
                    "Degree Centrality": 0.002717391304347826,
                    "Katz Centrality": 0.04933841968132984
                  },
                  {
                    "Betweenness Centrality": 0,
                    "Degree Centrality": 0.002717391304347826,
                    "Katz Centrality": 0.04933841968132984
                  },
                  {
                    "Betweenness Centrality": 0,
                    "Degree Centrality": 0.002717391304347826,
                    "Katz Centrality": 0.04933841968132984
                  },
                  {
                    "Betweenness Centrality": 0,
                    "Degree Centrality": 0.002717391304347826,
                    "Katz Centrality": 0.04933841968132984
                  },
                  {
                    "Betweenness Centrality": 0,
                    "Degree Centrality": 0.002717391304347826,
                    "Katz Centrality": 0.04933841968132984
                  },
                  {
                    "Betweenness Centrality": 0,
                    "Degree Centrality": 0.002717391304347826,
                    "Katz Centrality": 0.04933841968132984
                  },
                  {
                    "Betweenness Centrality": 0,
                    "Degree Centrality": 0.002717391304347826,
                    "Katz Centrality": 0.04933841968132984
                  },
                  {
                    "Betweenness Centrality": 0.01469020258263239,
                    "Degree Centrality": 0.08695652173913043,
                    "Katz Centrality": 0.14235421722142977
                  },
                  {
                    "Betweenness Centrality": 0,
                    "Degree Centrality": 0.002717391304347826,
                    "Katz Centrality": 0.0371106309106613
                  },
                  {
                    "Betweenness Centrality": 0,
                    "Degree Centrality": 0.002717391304347826,
                    "Katz Centrality": 0.0371106309106613
                  },
                  {
                    "Betweenness Centrality": 0,
                    "Degree Centrality": 0.002717391304347826,
                    "Katz Centrality": 0.0371106309106613
                  },
                  {
                    "Betweenness Centrality": 0,
                    "Degree Centrality": 0.002717391304347826,
                    "Katz Centrality": 0.0371106309106613
                  },
                  {
                    "Betweenness Centrality": 0,
                    "Degree Centrality": 0.002717391304347826,
                    "Katz Centrality": 0.0371106309106613
                  },
                  {
                    "Betweenness Centrality": 0,
                    "Degree Centrality": 0.002717391304347826,
                    "Katz Centrality": 0.0371106309106613
                  },
                  {
                    "Betweenness Centrality": 0,
                    "Degree Centrality": 0.002717391304347826,
                    "Katz Centrality": 0.0371106309106613
                  },
                  {
                    "Betweenness Centrality": 0,
                    "Degree Centrality": 0.002717391304347826,
                    "Katz Centrality": 0.0371106309106613
                  },
                  {
                    "Betweenness Centrality": 0,
                    "Degree Centrality": 0.002717391304347826,
                    "Katz Centrality": 0.0371106309106613
                  },
                  {
                    "Betweenness Centrality": 0,
                    "Degree Centrality": 0.002717391304347826,
                    "Katz Centrality": 0.0371106309106613
                  },
                  {
                    "Betweenness Centrality": 0,
                    "Degree Centrality": 0.002717391304347826,
                    "Katz Centrality": 0.0371106309106613
                  },
                  {
                    "Betweenness Centrality": 0,
                    "Degree Centrality": 0.002717391304347826,
                    "Katz Centrality": 0.0371106309106613
                  },
                  {
                    "Betweenness Centrality": 0,
                    "Degree Centrality": 0.002717391304347826,
                    "Katz Centrality": 0.0371106309106613
                  },
                  {
                    "Betweenness Centrality": 0,
                    "Degree Centrality": 0.002717391304347826,
                    "Katz Centrality": 0.0371106309106613
                  },
                  {
                    "Betweenness Centrality": 0,
                    "Degree Centrality": 0.002717391304347826,
                    "Katz Centrality": 0.0371106309106613
                  },
                  {
                    "Betweenness Centrality": 0,
                    "Degree Centrality": 0.002717391304347826,
                    "Katz Centrality": 0.0371106309106613
                  },
                  {
                    "Betweenness Centrality": 0,
                    "Degree Centrality": 0.002717391304347826,
                    "Katz Centrality": 0.0371106309106613
                  },
                  {
                    "Betweenness Centrality": 0,
                    "Degree Centrality": 0.002717391304347826,
                    "Katz Centrality": 0.0371106309106613
                  },
                  {
                    "Betweenness Centrality": 0,
                    "Degree Centrality": 0.002717391304347826,
                    "Katz Centrality": 0.0371106309106613
                  },
                  {
                    "Betweenness Centrality": 0,
                    "Degree Centrality": 0.002717391304347826,
                    "Katz Centrality": 0.0371106309106613
                  },
                  {
                    "Betweenness Centrality": 0,
                    "Degree Centrality": 0.002717391304347826,
                    "Katz Centrality": 0.0371106309106613
                  },
                  {
                    "Betweenness Centrality": 0,
                    "Degree Centrality": 0.002717391304347826,
                    "Katz Centrality": 0.0371106309106613
                  },
                  {
                    "Betweenness Centrality": 0,
                    "Degree Centrality": 0.002717391304347826,
                    "Katz Centrality": 0.0371106309106613
                  },
                  {
                    "Betweenness Centrality": 0,
                    "Degree Centrality": 0.002717391304347826,
                    "Katz Centrality": 0.0371106309106613
                  },
                  {
                    "Betweenness Centrality": 0,
                    "Degree Centrality": 0.002717391304347826,
                    "Katz Centrality": 0.0371106309106613
                  },
                  {
                    "Betweenness Centrality": 0,
                    "Degree Centrality": 0.002717391304347826,
                    "Katz Centrality": 0.0371106309106613
                  },
                  {
                    "Betweenness Centrality": 0,
                    "Degree Centrality": 0.002717391304347826,
                    "Katz Centrality": 0.0371106309106613
                  },
                  {
                    "Betweenness Centrality": 0,
                    "Degree Centrality": 0.002717391304347826,
                    "Katz Centrality": 0.0371106309106613
                  },
                  {
                    "Betweenness Centrality": 0,
                    "Degree Centrality": 0.002717391304347826,
                    "Katz Centrality": 0.0371106309106613
                  },
                  {
                    "Betweenness Centrality": 0,
                    "Degree Centrality": 0.002717391304347826,
                    "Katz Centrality": 0.0371106309106613
                  },
                  {
                    "Betweenness Centrality": 0,
                    "Degree Centrality": 0.002717391304347826,
                    "Katz Centrality": 0.0371106309106613
                  },
                  {
                    "Betweenness Centrality": 0.015326975476839238,
                    "Degree Centrality": 0.125,
                    "Katz Centrality": 0.23722395398344456
                  },
                  {
                    "Betweenness Centrality": 0,
                    "Degree Centrality": 0.002717391304347826,
                    "Katz Centrality": 0.04659756238960518
                  },
                  {
                    "Betweenness Centrality": 0,
                    "Degree Centrality": 0.002717391304347826,
                    "Katz Centrality": 0.04659756238960518
                  },
                  {
                    "Betweenness Centrality": 0,
                    "Degree Centrality": 0.002717391304347826,
                    "Katz Centrality": 0.04659756238960518
                  },
                  {
                    "Betweenness Centrality": 0,
                    "Degree Centrality": 0.002717391304347826,
                    "Katz Centrality": 0.04659756238960518
                  },
                  {
                    "Betweenness Centrality": 0,
                    "Degree Centrality": 0.002717391304347826,
                    "Katz Centrality": 0.04659756238960518
                  },
                  {
                    "Betweenness Centrality": 0,
                    "Degree Centrality": 0.002717391304347826,
                    "Katz Centrality": 0.04659756238960518
                  },
                  {
                    "Betweenness Centrality": 0,
                    "Degree Centrality": 0.002717391304347826,
                    "Katz Centrality": 0.04659756238960518
                  },
                  {
                    "Betweenness Centrality": 0,
                    "Degree Centrality": 0.002717391304347826,
                    "Katz Centrality": 0.04659756238960518
                  },
                  {
                    "Betweenness Centrality": 0,
                    "Degree Centrality": 0.002717391304347826,
                    "Katz Centrality": 0.04659756238960518
                  },
                  {
                    "Betweenness Centrality": 0,
                    "Degree Centrality": 0.002717391304347826,
                    "Katz Centrality": 0.04659756238960518
                  },
                  {
                    "Betweenness Centrality": 0,
                    "Degree Centrality": 0.002717391304347826,
                    "Katz Centrality": 0.04659756238960518
                  },
                  {
                    "Betweenness Centrality": 0,
                    "Degree Centrality": 0.002717391304347826,
                    "Katz Centrality": 0.04659756238960518
                  },
                  {
                    "Betweenness Centrality": 0,
                    "Degree Centrality": 0.002717391304347826,
                    "Katz Centrality": 0.04659756238960518
                  },
                  {
                    "Betweenness Centrality": 0,
                    "Degree Centrality": 0.002717391304347826,
                    "Katz Centrality": 0.04659756238960518
                  },
                  {
                    "Betweenness Centrality": 0,
                    "Degree Centrality": 0.002717391304347826,
                    "Katz Centrality": 0.04659756238960518
                  },
                  {
                    "Betweenness Centrality": 0,
                    "Degree Centrality": 0.002717391304347826,
                    "Katz Centrality": 0.04659756238960518
                  },
                  {
                    "Betweenness Centrality": 0,
                    "Degree Centrality": 0.002717391304347826,
                    "Katz Centrality": 0.04659756238960518
                  },
                  {
                    "Betweenness Centrality": 0,
                    "Degree Centrality": 0.002717391304347826,
                    "Katz Centrality": 0.04659756238960518
                  },
                  {
                    "Betweenness Centrality": 0,
                    "Degree Centrality": 0.002717391304347826,
                    "Katz Centrality": 0.04659756238960518
                  },
                  {
                    "Betweenness Centrality": 0,
                    "Degree Centrality": 0.002717391304347826,
                    "Katz Centrality": 0.04659756238960518
                  },
                  {
                    "Betweenness Centrality": 0,
                    "Degree Centrality": 0.002717391304347826,
                    "Katz Centrality": 0.04659756238960518
                  },
                  {
                    "Betweenness Centrality": 0,
                    "Degree Centrality": 0.002717391304347826,
                    "Katz Centrality": 0.04659756238960518
                  },
                  {
                    "Betweenness Centrality": 0,
                    "Degree Centrality": 0.002717391304347826,
                    "Katz Centrality": 0.04659756238960518
                  },
                  {
                    "Betweenness Centrality": 0,
                    "Degree Centrality": 0.002717391304347826,
                    "Katz Centrality": 0.04659756238960518
                  },
                  {
                    "Betweenness Centrality": 0,
                    "Degree Centrality": 0.002717391304347826,
                    "Katz Centrality": 0.04659756238960518
                  },
                  {
                    "Betweenness Centrality": 0,
                    "Degree Centrality": 0.002717391304347826,
                    "Katz Centrality": 0.04659756238960518
                  },
                  {
                    "Betweenness Centrality": 0,
                    "Degree Centrality": 0.002717391304347826,
                    "Katz Centrality": 0.04659756238960518
                  },
                  {
                    "Betweenness Centrality": 0,
                    "Degree Centrality": 0.002717391304347826,
                    "Katz Centrality": 0.04659756238960518
                  },
                  {
                    "Betweenness Centrality": 0,
                    "Degree Centrality": 0.002717391304347826,
                    "Katz Centrality": 0.04659756238960518
                  },
                  {
                    "Betweenness Centrality": 0,
                    "Degree Centrality": 0.002717391304347826,
                    "Katz Centrality": 0.04659756238960518
                  },
                  {
                    "Betweenness Centrality": 0,
                    "Degree Centrality": 0.002717391304347826,
                    "Katz Centrality": 0.04659756238960518
                  },
                  {
                    "Betweenness Centrality": 0,
                    "Degree Centrality": 0.002717391304347826,
                    "Katz Centrality": 0.04659756238960518
                  },
                  {
                    "Betweenness Centrality": 0,
                    "Degree Centrality": 0.002717391304347826,
                    "Katz Centrality": 0.04659756238960518
                  },
                  {
                    "Betweenness Centrality": 0,
                    "Degree Centrality": 0.002717391304347826,
                    "Katz Centrality": 0.04659756238960518
                  },
                  {
                    "Betweenness Centrality": 0,
                    "Degree Centrality": 0.002717391304347826,
                    "Katz Centrality": 0.04659756238960518
                  },
                  {
                    "Betweenness Centrality": 0,
                    "Degree Centrality": 0.002717391304347826,
                    "Katz Centrality": 0.04659756238960518
                  },
                  {
                    "Betweenness Centrality": 0,
                    "Degree Centrality": 0.002717391304347826,
                    "Katz Centrality": 0.04659756238960518
                  },
                  {
                    "Betweenness Centrality": 0,
                    "Degree Centrality": 0.002717391304347826,
                    "Katz Centrality": 0.04659756238960518
                  },
                  {
                    "Betweenness Centrality": 0,
                    "Degree Centrality": 0.002717391304347826,
                    "Katz Centrality": 0.04659756238960518
                  },
                  {
                    "Betweenness Centrality": 0,
                    "Degree Centrality": 0.002717391304347826,
                    "Katz Centrality": 0.04659756238960518
                  },
                  {
                    "Betweenness Centrality": 0,
                    "Degree Centrality": 0.002717391304347826,
                    "Katz Centrality": 0.04659756238960518
                  },
                  {
                    "Betweenness Centrality": 0,
                    "Degree Centrality": 0.002717391304347826,
                    "Katz Centrality": 0.04659756238960518
                  },
                  {
                    "Betweenness Centrality": 0,
                    "Degree Centrality": 0.002717391304347826,
                    "Katz Centrality": 0.04659756238960518
                  },
                  {
                    "Betweenness Centrality": 0,
                    "Degree Centrality": 0.002717391304347826,
                    "Katz Centrality": 0.04659756238960518
                  },
                  {
                    "Betweenness Centrality": 0,
                    "Degree Centrality": 0.002717391304347826,
                    "Katz Centrality": 0.04659756238960518
                  },
                  {
                    "Betweenness Centrality": 0,
                    "Degree Centrality": 0.002717391304347826,
                    "Katz Centrality": 0.04659756238960518
                  },
                  {
                    "Betweenness Centrality": 0.0031098211112427438,
                    "Degree Centrality": 0.02717391304347826,
                    "Katz Centrality": 0.057021832541775536
                  },
                  {
                    "Betweenness Centrality": 0.0007256249259566403,
                    "Degree Centrality": 0.005434782608695652,
                    "Katz Centrality": 0.042500469405770736
                  },
                  {
                    "Betweenness Centrality": 0.0007256249259566403,
                    "Degree Centrality": 0.005434782608695652,
                    "Katz Centrality": 0.042500469405770736
                  },
                  {
                    "Betweenness Centrality": 0,
                    "Degree Centrality": 0.002717391304347826,
                    "Katz Centrality": 0.028577392522304252
                  },
                  {
                    "Betweenness Centrality": 0,
                    "Degree Centrality": 0.002717391304347826,
                    "Katz Centrality": 0.028577392522304252
                  },
                  {
                    "Betweenness Centrality": 0.0007256249259566403,
                    "Degree Centrality": 0.005434782608695652,
                    "Katz Centrality": 0.042500469405770736
                  },
                  {
                    "Betweenness Centrality": 0.0007256249259566403,
                    "Degree Centrality": 0.005434782608695652,
                    "Katz Centrality": 0.042500469405770736
                  },
                  {
                    "Betweenness Centrality": 0,
                    "Degree Centrality": 0.002717391304347826,
                    "Katz Centrality": 0.028577392522304252
                  },
                  {
                    "Betweenness Centrality": 0,
                    "Degree Centrality": 0.002717391304347826,
                    "Katz Centrality": 0.028577392522304252
                  },
                  {
                    "Betweenness Centrality": 0,
                    "Degree Centrality": 0.002717391304347826,
                    "Katz Centrality": 0.028577392522304252
                  },
                  {
                    "Betweenness Centrality": 0,
                    "Degree Centrality": 0.002717391304347826,
                    "Katz Centrality": 0.028577392522304252
                  },
                  {
                    "Betweenness Centrality": 0.009640445444852506,
                    "Degree Centrality": 0.08423913043478261,
                    "Katz Centrality": 0.1392307696040876
                  },
                  {
                    "Betweenness Centrality": 0,
                    "Degree Centrality": 0.002717391304347826,
                    "Katz Centrality": 0.036798286165752536
                  },
                  {
                    "Betweenness Centrality": 0,
                    "Degree Centrality": 0.002717391304347826,
                    "Katz Centrality": 0.036798286165752536
                  },
                  {
                    "Betweenness Centrality": 0,
                    "Degree Centrality": 0.002717391304347826,
                    "Katz Centrality": 0.036798286165752536
                  },
                  {
                    "Betweenness Centrality": 0,
                    "Degree Centrality": 0.002717391304347826,
                    "Katz Centrality": 0.036798286165752536
                  },
                  {
                    "Betweenness Centrality": 0,
                    "Degree Centrality": 0.002717391304347826,
                    "Katz Centrality": 0.036798286165752536
                  },
                  {
                    "Betweenness Centrality": 0,
                    "Degree Centrality": 0.002717391304347826,
                    "Katz Centrality": 0.036798286165752536
                  },
                  {
                    "Betweenness Centrality": 0,
                    "Degree Centrality": 0.002717391304347826,
                    "Katz Centrality": 0.036798286165752536
                  },
                  {
                    "Betweenness Centrality": 0,
                    "Degree Centrality": 0.002717391304347826,
                    "Katz Centrality": 0.036798286165752536
                  },
                  {
                    "Betweenness Centrality": 0,
                    "Degree Centrality": 0.002717391304347826,
                    "Katz Centrality": 0.036798286165752536
                  },
                  {
                    "Betweenness Centrality": 0,
                    "Degree Centrality": 0.002717391304347826,
                    "Katz Centrality": 0.036798286165752536
                  },
                  {
                    "Betweenness Centrality": 0,
                    "Degree Centrality": 0.002717391304347826,
                    "Katz Centrality": 0.036798286165752536
                  },
                  {
                    "Betweenness Centrality": 0,
                    "Degree Centrality": 0.002717391304347826,
                    "Katz Centrality": 0.036798286165752536
                  },
                  {
                    "Betweenness Centrality": 0,
                    "Degree Centrality": 0.002717391304347826,
                    "Katz Centrality": 0.036798286165752536
                  },
                  {
                    "Betweenness Centrality": 0,
                    "Degree Centrality": 0.002717391304347826,
                    "Katz Centrality": 0.036798286165752536
                  },
                  {
                    "Betweenness Centrality": 0,
                    "Degree Centrality": 0.002717391304347826,
                    "Katz Centrality": 0.036798286165752536
                  },
                  {
                    "Betweenness Centrality": 0,
                    "Degree Centrality": 0.002717391304347826,
                    "Katz Centrality": 0.036798286165752536
                  },
                  {
                    "Betweenness Centrality": 0,
                    "Degree Centrality": 0.002717391304347826,
                    "Katz Centrality": 0.036798286165752536
                  },
                  {
                    "Betweenness Centrality": 0,
                    "Degree Centrality": 0.002717391304347826,
                    "Katz Centrality": 0.036798286165752536
                  },
                  {
                    "Betweenness Centrality": 0,
                    "Degree Centrality": 0.002717391304347826,
                    "Katz Centrality": 0.036798286165752536
                  },
                  {
                    "Betweenness Centrality": 0,
                    "Degree Centrality": 0.002717391304347826,
                    "Katz Centrality": 0.036798286165752536
                  },
                  {
                    "Betweenness Centrality": 0,
                    "Degree Centrality": 0.002717391304347826,
                    "Katz Centrality": 0.036798286165752536
                  },
                  {
                    "Betweenness Centrality": 0,
                    "Degree Centrality": 0.002717391304347826,
                    "Katz Centrality": 0.036798286165752536
                  },
                  {
                    "Betweenness Centrality": 0,
                    "Degree Centrality": 0.002717391304347826,
                    "Katz Centrality": 0.036798286165752536
                  },
                  {
                    "Betweenness Centrality": 0,
                    "Degree Centrality": 0.002717391304347826,
                    "Katz Centrality": 0.036798286165752536
                  },
                  {
                    "Betweenness Centrality": 0,
                    "Degree Centrality": 0.002717391304347826,
                    "Katz Centrality": 0.036798286165752536
                  },
                  {
                    "Betweenness Centrality": 0,
                    "Degree Centrality": 0.002717391304347826,
                    "Katz Centrality": 0.036798286165752536
                  },
                  {
                    "Betweenness Centrality": 0,
                    "Degree Centrality": 0.002717391304347826,
                    "Katz Centrality": 0.036798286165752536
                  },
                  {
                    "Betweenness Centrality": 0.0031098211112427438,
                    "Degree Centrality": 0.057065217391304345,
                    "Katz Centrality": 0.08976347946186548
                  },
                  {
                    "Betweenness Centrality": 0,
                    "Degree Centrality": 0.002717391304347826,
                    "Katz Centrality": 0.031851557228403875
                  },
                  {
                    "Betweenness Centrality": 0,
                    "Degree Centrality": 0.002717391304347826,
                    "Katz Centrality": 0.031851557228403875
                  },
                  {
                    "Betweenness Centrality": 0,
                    "Degree Centrality": 0.002717391304347826,
                    "Katz Centrality": 0.031851557228403875
                  },
                  {
                    "Betweenness Centrality": 0,
                    "Degree Centrality": 0.002717391304347826,
                    "Katz Centrality": 0.031851557228403875
                  },
                  {
                    "Betweenness Centrality": 0,
                    "Degree Centrality": 0.002717391304347826,
                    "Katz Centrality": 0.031851557228403875
                  },
                  {
                    "Betweenness Centrality": 0,
                    "Degree Centrality": 0.002717391304347826,
                    "Katz Centrality": 0.031851557228403875
                  },
                  {
                    "Betweenness Centrality": 0,
                    "Degree Centrality": 0.002717391304347826,
                    "Katz Centrality": 0.031851557228403875
                  },
                  {
                    "Betweenness Centrality": 0,
                    "Degree Centrality": 0.002717391304347826,
                    "Katz Centrality": 0.031851557228403875
                  },
                  {
                    "Betweenness Centrality": 0,
                    "Degree Centrality": 0.002717391304347826,
                    "Katz Centrality": 0.031851557228403875
                  },
                  {
                    "Betweenness Centrality": 0,
                    "Degree Centrality": 0.002717391304347826,
                    "Katz Centrality": 0.031851557228403875
                  },
                  {
                    "Betweenness Centrality": 0,
                    "Degree Centrality": 0.002717391304347826,
                    "Katz Centrality": 0.031851557228403875
                  },
                  {
                    "Betweenness Centrality": 0,
                    "Degree Centrality": 0.002717391304347826,
                    "Katz Centrality": 0.031851557228403875
                  },
                  {
                    "Betweenness Centrality": 0,
                    "Degree Centrality": 0.002717391304347826,
                    "Katz Centrality": 0.031851557228403875
                  },
                  {
                    "Betweenness Centrality": 0,
                    "Degree Centrality": 0.002717391304347826,
                    "Katz Centrality": 0.031851557228403875
                  },
                  {
                    "Betweenness Centrality": 0,
                    "Degree Centrality": 0.002717391304347826,
                    "Katz Centrality": 0.031851557228403875
                  },
                  {
                    "Betweenness Centrality": 0,
                    "Degree Centrality": 0.002717391304347826,
                    "Katz Centrality": 0.031851557228403875
                  },
                  {
                    "Betweenness Centrality": 0,
                    "Degree Centrality": 0.002717391304347826,
                    "Katz Centrality": 0.031851557228403875
                  },
                  {
                    "Betweenness Centrality": 0,
                    "Degree Centrality": 0.002717391304347826,
                    "Katz Centrality": 0.031851557228403875
                  },
                  {
                    "Betweenness Centrality": 0,
                    "Degree Centrality": 0.002717391304347826,
                    "Katz Centrality": 0.031851557228403875
                  },
                  {
                    "Betweenness Centrality": 0,
                    "Degree Centrality": 0.002717391304347826,
                    "Katz Centrality": 0.031851557228403875
                  },
                  {
                    "Betweenness Centrality": 0,
                    "Degree Centrality": 0.002717391304347826,
                    "Katz Centrality": 0.031851557228403875
                  },
                  {
                    "Betweenness Centrality": 0.015326975476839238,
                    "Degree Centrality": 0.125,
                    "Katz Centrality": 0.23722395398344456
                  },
                  {
                    "Betweenness Centrality": 0,
                    "Degree Centrality": 0.002717391304347826,
                    "Katz Centrality": 0.04659756238960518
                  },
                  {
                    "Betweenness Centrality": 0,
                    "Degree Centrality": 0.002717391304347826,
                    "Katz Centrality": 0.04659756238960518
                  },
                  {
                    "Betweenness Centrality": 0,
                    "Degree Centrality": 0.002717391304347826,
                    "Katz Centrality": 0.04659756238960518
                  },
                  {
                    "Betweenness Centrality": 0,
                    "Degree Centrality": 0.002717391304347826,
                    "Katz Centrality": 0.04659756238960518
                  },
                  {
                    "Betweenness Centrality": 0,
                    "Degree Centrality": 0.002717391304347826,
                    "Katz Centrality": 0.04659756238960518
                  },
                  {
                    "Betweenness Centrality": 0,
                    "Degree Centrality": 0.002717391304347826,
                    "Katz Centrality": 0.04659756238960518
                  },
                  {
                    "Betweenness Centrality": 0,
                    "Degree Centrality": 0.002717391304347826,
                    "Katz Centrality": 0.04659756238960518
                  },
                  {
                    "Betweenness Centrality": 0,
                    "Degree Centrality": 0.002717391304347826,
                    "Katz Centrality": 0.04659756238960518
                  },
                  {
                    "Betweenness Centrality": 0,
                    "Degree Centrality": 0.002717391304347826,
                    "Katz Centrality": 0.04659756238960518
                  },
                  {
                    "Betweenness Centrality": 0,
                    "Degree Centrality": 0.002717391304347826,
                    "Katz Centrality": 0.04659756238960518
                  },
                  {
                    "Betweenness Centrality": 0,
                    "Degree Centrality": 0.002717391304347826,
                    "Katz Centrality": 0.04659756238960518
                  },
                  {
                    "Betweenness Centrality": 0,
                    "Degree Centrality": 0.002717391304347826,
                    "Katz Centrality": 0.04659756238960518
                  },
                  {
                    "Betweenness Centrality": 0,
                    "Degree Centrality": 0.002717391304347826,
                    "Katz Centrality": 0.04659756238960518
                  },
                  {
                    "Betweenness Centrality": 0,
                    "Degree Centrality": 0.002717391304347826,
                    "Katz Centrality": 0.04659756238960518
                  },
                  {
                    "Betweenness Centrality": 0,
                    "Degree Centrality": 0.002717391304347826,
                    "Katz Centrality": 0.04659756238960518
                  },
                  {
                    "Betweenness Centrality": 0,
                    "Degree Centrality": 0.002717391304347826,
                    "Katz Centrality": 0.04659756238960518
                  },
                  {
                    "Betweenness Centrality": 0,
                    "Degree Centrality": 0.002717391304347826,
                    "Katz Centrality": 0.04659756238960518
                  },
                  {
                    "Betweenness Centrality": 0,
                    "Degree Centrality": 0.002717391304347826,
                    "Katz Centrality": 0.04659756238960518
                  },
                  {
                    "Betweenness Centrality": 0,
                    "Degree Centrality": 0.002717391304347826,
                    "Katz Centrality": 0.04659756238960518
                  },
                  {
                    "Betweenness Centrality": 0,
                    "Degree Centrality": 0.002717391304347826,
                    "Katz Centrality": 0.04659756238960518
                  },
                  {
                    "Betweenness Centrality": 0,
                    "Degree Centrality": 0.002717391304347826,
                    "Katz Centrality": 0.04659756238960518
                  },
                  {
                    "Betweenness Centrality": 0,
                    "Degree Centrality": 0.002717391304347826,
                    "Katz Centrality": 0.04659756238960518
                  },
                  {
                    "Betweenness Centrality": 0,
                    "Degree Centrality": 0.002717391304347826,
                    "Katz Centrality": 0.04659756238960518
                  },
                  {
                    "Betweenness Centrality": 0,
                    "Degree Centrality": 0.002717391304347826,
                    "Katz Centrality": 0.04659756238960518
                  },
                  {
                    "Betweenness Centrality": 0,
                    "Degree Centrality": 0.002717391304347826,
                    "Katz Centrality": 0.04659756238960518
                  },
                  {
                    "Betweenness Centrality": 0,
                    "Degree Centrality": 0.002717391304347826,
                    "Katz Centrality": 0.04659756238960518
                  },
                  {
                    "Betweenness Centrality": 0,
                    "Degree Centrality": 0.002717391304347826,
                    "Katz Centrality": 0.04659756238960518
                  },
                  {
                    "Betweenness Centrality": 0,
                    "Degree Centrality": 0.002717391304347826,
                    "Katz Centrality": 0.04659756238960518
                  },
                  {
                    "Betweenness Centrality": 0,
                    "Degree Centrality": 0.002717391304347826,
                    "Katz Centrality": 0.04659756238960518
                  },
                  {
                    "Betweenness Centrality": 0,
                    "Degree Centrality": 0.002717391304347826,
                    "Katz Centrality": 0.04659756238960518
                  },
                  {
                    "Betweenness Centrality": 0,
                    "Degree Centrality": 0.002717391304347826,
                    "Katz Centrality": 0.04659756238960518
                  },
                  {
                    "Betweenness Centrality": 0,
                    "Degree Centrality": 0.002717391304347826,
                    "Katz Centrality": 0.04659756238960518
                  },
                  {
                    "Betweenness Centrality": 0,
                    "Degree Centrality": 0.002717391304347826,
                    "Katz Centrality": 0.04659756238960518
                  },
                  {
                    "Betweenness Centrality": 0,
                    "Degree Centrality": 0.002717391304347826,
                    "Katz Centrality": 0.04659756238960518
                  },
                  {
                    "Betweenness Centrality": 0,
                    "Degree Centrality": 0.002717391304347826,
                    "Katz Centrality": 0.04659756238960518
                  },
                  {
                    "Betweenness Centrality": 0,
                    "Degree Centrality": 0.002717391304347826,
                    "Katz Centrality": 0.04659756238960518
                  },
                  {
                    "Betweenness Centrality": 0,
                    "Degree Centrality": 0.002717391304347826,
                    "Katz Centrality": 0.04659756238960518
                  },
                  {
                    "Betweenness Centrality": 0,
                    "Degree Centrality": 0.002717391304347826,
                    "Katz Centrality": 0.04659756238960518
                  },
                  {
                    "Betweenness Centrality": 0,
                    "Degree Centrality": 0.002717391304347826,
                    "Katz Centrality": 0.04659756238960518
                  },
                  {
                    "Betweenness Centrality": 0,
                    "Degree Centrality": 0.002717391304347826,
                    "Katz Centrality": 0.04659756238960518
                  },
                  {
                    "Betweenness Centrality": 0,
                    "Degree Centrality": 0.002717391304347826,
                    "Katz Centrality": 0.04659756238960518
                  },
                  {
                    "Betweenness Centrality": 0,
                    "Degree Centrality": 0.002717391304347826,
                    "Katz Centrality": 0.04659756238960518
                  },
                  {
                    "Betweenness Centrality": 0,
                    "Degree Centrality": 0.002717391304347826,
                    "Katz Centrality": 0.04659756238960518
                  },
                  {
                    "Betweenness Centrality": 0,
                    "Degree Centrality": 0.002717391304347826,
                    "Katz Centrality": 0.04659756238960518
                  },
                  {
                    "Betweenness Centrality": 0,
                    "Degree Centrality": 0.002717391304347826,
                    "Katz Centrality": 0.04659756238960518
                  },
                  {
                    "Betweenness Centrality": 0,
                    "Degree Centrality": 0.002717391304347826,
                    "Katz Centrality": 0.04659756238960518
                  },
                  {
                    "Betweenness Centrality": 0.010410496386684042,
                    "Degree Centrality": 0.10326086956521739,
                    "Katz Centrality": 0.17709838172207984
                  },
                  {
                    "Betweenness Centrality": 0,
                    "Degree Centrality": 0.002717391304347826,
                    "Katz Centrality": 0.04058504581130995
                  },
                  {
                    "Betweenness Centrality": 0,
                    "Degree Centrality": 0.002717391304347826,
                    "Katz Centrality": 0.04058504581130995
                  },
                  {
                    "Betweenness Centrality": 0,
                    "Degree Centrality": 0.002717391304347826,
                    "Katz Centrality": 0.04058504581130995
                  },
                  {
                    "Betweenness Centrality": 0,
                    "Degree Centrality": 0.002717391304347826,
                    "Katz Centrality": 0.04058504581130995
                  },
                  {
                    "Betweenness Centrality": 0,
                    "Degree Centrality": 0.002717391304347826,
                    "Katz Centrality": 0.04058504581130995
                  },
                  {
                    "Betweenness Centrality": 0,
                    "Degree Centrality": 0.002717391304347826,
                    "Katz Centrality": 0.04058504581130995
                  },
                  {
                    "Betweenness Centrality": 0,
                    "Degree Centrality": 0.002717391304347826,
                    "Katz Centrality": 0.04058504581130995
                  },
                  {
                    "Betweenness Centrality": 0,
                    "Degree Centrality": 0.002717391304347826,
                    "Katz Centrality": 0.04058504581130995
                  },
                  {
                    "Betweenness Centrality": 0,
                    "Degree Centrality": 0.002717391304347826,
                    "Katz Centrality": 0.04058504581130995
                  },
                  {
                    "Betweenness Centrality": 0,
                    "Degree Centrality": 0.002717391304347826,
                    "Katz Centrality": 0.04058504581130995
                  },
                  {
                    "Betweenness Centrality": 0,
                    "Degree Centrality": 0.002717391304347826,
                    "Katz Centrality": 0.04058504581130995
                  },
                  {
                    "Betweenness Centrality": 0,
                    "Degree Centrality": 0.002717391304347826,
                    "Katz Centrality": 0.04058504581130995
                  },
                  {
                    "Betweenness Centrality": 0,
                    "Degree Centrality": 0.002717391304347826,
                    "Katz Centrality": 0.04058504581130995
                  },
                  {
                    "Betweenness Centrality": 0,
                    "Degree Centrality": 0.002717391304347826,
                    "Katz Centrality": 0.04058504581130995
                  },
                  {
                    "Betweenness Centrality": 0,
                    "Degree Centrality": 0.002717391304347826,
                    "Katz Centrality": 0.04058504581130995
                  },
                  {
                    "Betweenness Centrality": 0,
                    "Degree Centrality": 0.002717391304347826,
                    "Katz Centrality": 0.04058504581130995
                  },
                  {
                    "Betweenness Centrality": 0,
                    "Degree Centrality": 0.002717391304347826,
                    "Katz Centrality": 0.04058504581130995
                  },
                  {
                    "Betweenness Centrality": 0,
                    "Degree Centrality": 0.002717391304347826,
                    "Katz Centrality": 0.04058504581130995
                  },
                  {
                    "Betweenness Centrality": 0,
                    "Degree Centrality": 0.002717391304347826,
                    "Katz Centrality": 0.04058504581130995
                  },
                  {
                    "Betweenness Centrality": 0,
                    "Degree Centrality": 0.002717391304347826,
                    "Katz Centrality": 0.04058504581130995
                  },
                  {
                    "Betweenness Centrality": 0,
                    "Degree Centrality": 0.002717391304347826,
                    "Katz Centrality": 0.04058504581130995
                  },
                  {
                    "Betweenness Centrality": 0,
                    "Degree Centrality": 0.002717391304347826,
                    "Katz Centrality": 0.04058504581130995
                  },
                  {
                    "Betweenness Centrality": 0,
                    "Degree Centrality": 0.002717391304347826,
                    "Katz Centrality": 0.04058504581130995
                  },
                  {
                    "Betweenness Centrality": 0,
                    "Degree Centrality": 0.002717391304347826,
                    "Katz Centrality": 0.04058504581130995
                  },
                  {
                    "Betweenness Centrality": 0,
                    "Degree Centrality": 0.002717391304347826,
                    "Katz Centrality": 0.04058504581130995
                  },
                  {
                    "Betweenness Centrality": 0,
                    "Degree Centrality": 0.002717391304347826,
                    "Katz Centrality": 0.04058504581130995
                  },
                  {
                    "Betweenness Centrality": 0,
                    "Degree Centrality": 0.002717391304347826,
                    "Katz Centrality": 0.04058504581130995
                  },
                  {
                    "Betweenness Centrality": 0,
                    "Degree Centrality": 0.002717391304347826,
                    "Katz Centrality": 0.04058504581130995
                  },
                  {
                    "Betweenness Centrality": 0,
                    "Degree Centrality": 0.002717391304347826,
                    "Katz Centrality": 0.04058504581130995
                  },
                  {
                    "Betweenness Centrality": 0,
                    "Degree Centrality": 0.002717391304347826,
                    "Katz Centrality": 0.04058504581130995
                  },
                  {
                    "Betweenness Centrality": 0,
                    "Degree Centrality": 0.002717391304347826,
                    "Katz Centrality": 0.04058504581130995
                  },
                  {
                    "Betweenness Centrality": 0,
                    "Degree Centrality": 0.002717391304347826,
                    "Katz Centrality": 0.04058504581130995
                  },
                  {
                    "Betweenness Centrality": 0,
                    "Degree Centrality": 0.002717391304347826,
                    "Katz Centrality": 0.04058504581130995
                  },
                  {
                    "Betweenness Centrality": 0,
                    "Degree Centrality": 0.002717391304347826,
                    "Katz Centrality": 0.04058504581130995
                  },
                  {
                    "Betweenness Centrality": 0,
                    "Degree Centrality": 0.002717391304347826,
                    "Katz Centrality": 0.04058504581130995
                  },
                  {
                    "Betweenness Centrality": 0,
                    "Degree Centrality": 0.002717391304347826,
                    "Katz Centrality": 0.04058504581130995
                  },
                  {
                    "Betweenness Centrality": 0,
                    "Degree Centrality": 0.002717391304347826,
                    "Katz Centrality": 0.04058504581130995
                  },
                  {
                    "Betweenness Centrality": 0,
                    "Degree Centrality": 0.002717391304347826,
                    "Katz Centrality": 0.04058504581130995
                  }
                ]
              },
              "encoding": {
                "color": {
                  "field": "Centrality",
                  "type": "nominal"
                },
                "x": {
                  "bin": {
                    "maxbins": 50
                  },
                  "field": "Measurement",
                  "type": "quantitative"
                },
                "y": {
                  "aggregate": "count",
                  "stack": null,
                  "type": "quantitative"
                }
              },
              "mark": {
                "interpolate": "step",
                "opacity": 0.7,
                "type": "area"
              },
              "transform": [
                {
                  "as": [
                    "Centrality",
                    "Measurement"
                  ],
                  "fold": [
                    "Degree Centrality",
                    "Betweenness Centrality",
                    "Katz Centrality"
                  ]
                }
              ]
            },
            "image/png": "[encoded data removed]",
            "text/plain": [
              "<VegaLite 3 object>\n",
              "\n",
              "If you see this message, it means the renderer has not been properly enabled\n",
              "for the frontend that you are using. For more information, see\n",
              "https://altair-viz.github.io/user_guide/troubleshooting.html\n"
            ]
          },
          "metadata": {}
        }
      ],
      "execution_count": 15,
      "metadata": {}
    },
    {
      "cell_type": "code",
      "source": [
        "weight_graphFile='weight_repo.graphml'\n",
        "with open(weight_graphFile, 'wb') as fOut:\n",
        "    nx.write_graphml(network_weight, fOut)"
      ],
      "outputs": [],
      "execution_count": 115,
      "metadata": {}
    },
    {
      "cell_type": "code",
      "source": [],
      "outputs": [],
      "execution_count": null,
      "metadata": {}
    }
  ],
  "metadata": {
    "kernelspec": {
      "name": "python3",
      "language": "python",
      "display_name": "Python 3"
    },
    "language_info": {
      "name": "python",
      "version": "3.6.4",
      "mimetype": "text/x-python",
      "codemirror_mode": {
        "name": "ipython",
        "version": 3
      },
      "pygments_lexer": "ipython3",
      "nbconvert_exporter": "python",
      "file_extension": ".py"
    },
    "kernel_info": {
      "name": "python3"
    },
    "nteract": {
      "version": "0.15.0"
    }
  },
  "nbformat": 4,
  "nbformat_minor": 4
}