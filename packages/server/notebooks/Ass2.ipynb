{
 "cells": [
  {
   "cell_type": "code",
   "execution_count": 99,
   "metadata": {},
   "outputs": [],
   "source": [
    "import json\n",
    "from os import listdir\n",
    "import networkx as nx\n",
    "import matplotlib.pyplot as plt\n",
    "from matplotlib.pyplot import figure\n",
    "from collections import Counter\n",
    "import pandas as pd\n",
    "import numpy as np\n",
    "import sys\n",
    "import altair as alt"
   ]
  },
  {
   "cell_type": "code",
   "execution_count": 100,
   "metadata": {},
   "outputs": [
    {
     "data": {
      "text/plain": [
       "['scikit-learn.json',\n",
       " 'linux.json',\n",
       " 'ipython.json',\n",
       " 'node.json',\n",
       " 'django.json',\n",
       " 'tensorflow.json',\n",
       " 'tidyverse.json',\n",
       " 'ggplot2.json',\n",
       " 'keras.json',\n",
       " 'spark.json',\n",
       " 'pandas.json']"
      ]
     },
     "execution_count": 100,
     "metadata": {},
     "output_type": "execute_result"
    }
   ],
   "source": [
    "# Get list of json files in directory\n",
    "files_in_drive = listdir()\n",
    "json_files = []\n",
    "for ix, file in enumerate(files_in_drive):\n",
    "    if('.json' in file):\n",
    "        json_files.append(file)\n",
    "   \n",
    "# Remove files if wanted\n",
    "rm = []\n",
    "# rm.append(['linux', 'ipython', 'spark', 'node']) # cosc\n",
    "# rm.append(['django', 'keras', 'tensorflow', 'pandas', 'scikit-learn']) # Python\n",
    "# rm.append(['ggplot2', 'tidyverse']) # R\n",
    "for layer in rm:\n",
    "    for f in layer:\n",
    "        json_files.remove(f+\".json\")\n",
    "json_files"
   ]
  },
  {
   "cell_type": "code",
   "execution_count": 101,
   "metadata": {},
   "outputs": [],
   "source": [
    "# Prepare keys for dictionary\n",
    "file_names = []\n",
    "for file in json_files:\n",
    "    start = file.find('.')\n",
    "    file_names.append(file[0:start])"
   ]
  },
  {
   "cell_type": "code",
   "execution_count": 102,
   "metadata": {},
   "outputs": [],
   "source": [
    "# Put all json data into dictionary\n",
    "data = {}\n",
    "for ix, file in enumerate(json_files):\n",
    "    tmp = json.loads(open(file, encoding=\"utf-8\").read())\n",
    "    data[file_names[ix]] = tmp['data']['repository']['ref']['target']['history']['edges']"
   ]
  },
  {
   "cell_type": "code",
   "execution_count": 103,
   "metadata": {},
   "outputs": [],
   "source": [
    "# Data Helpers\n",
    "repo_user_list = {}\n",
    "repo_weight = {}\n",
    "\n",
    "for repo in data:\n",
    "    ix = 0\n",
    "    user_list = []\n",
    "    weight = []\n",
    "    while ix < len(data[repo]):\n",
    "        try:\n",
    "            user = data[repo][ix]['node']['author']['user']['login']\n",
    "            weight.append(user)\n",
    "            user_list.append(user)\n",
    "        except:\n",
    "            pass\n",
    "        ix += 1\n",
    "    repo_user_list[repo] = list(set(user_list))\n",
    "    repo_weight[repo] = Counter(weight)"
   ]
  },
  {
   "cell_type": "code",
   "execution_count": 104,
   "metadata": {},
   "outputs": [
    {
     "name": "stdout",
     "output_type": "stream",
     "text": [
      "Top contributors for each repo\n",
      "\n",
      "scikit-learn: [('NicolasHug', 12), ('thomasjpfan', 9), ('adrinjalali', 7), ('cmarmo', 5), ('glemaitre', 5)]\n",
      "linux: [('AlexGhiti', 14), ('liu-song-6', 13), ('davidhildenbrand', 10), ('torvalds', 5), ('yang-shi', 4)]\n",
      "ipython: [('Carreau', 77), ('terrdavis', 6), ('minho42', 2), ('oscargus', 2), ('brandonwillard', 2)]\n",
      "node: [('addaleax', 18), ('ronag', 12), ('ckarande', 4), ('mhdawson', 4), ('cclauss', 3)]\n",
      "django: [('felixxm', 30), ('carltongibson', 11), ('pope1ni', 6), ('claudep', 5), ('charettes', 5)]\n",
      "tensorflow: [('tensorflower-gardener', 28), ('bmzhao', 7), ('allenlavoie', 4), ('haozha111', 4), ('chsigg', 3)]\n",
      "tidyverse: [('hadley', 27), ('batpigandme', 22), ('jennybc', 7), ('krlmlr', 1), ('romainfrancois', 1)]\n",
      "ggplot2: [('paleolimbot', 29), ('thomasp85', 23), ('yutannihilation', 8), ('batpigandme', 4), ('clauswilke', 2)]\n",
      "keras: [('fchollet', 67), ('pavithrasv', 11), ('gabrieldemarmiesse', 2), ('farizrahman4u', 2), ('djstrong', 1)]\n",
      "spark: [('dongjoon-hyun', 11), ('HeartSaVioR', 8), ('MaxGekk', 8), ('wangyum', 6), ('zhengruifeng', 4)]\n",
      "pandas: [('jbrockmendel', 36), ('jorisvandenbossche', 6), ('TomAugspurger', 6), ('dsaxton', 5), ('datapythonista', 5)]\n"
     ]
    }
   ],
   "source": [
    "print(\"Top contributors for each repo\\n\")\n",
    "for repo in repo_weight:\n",
    "    print(repo + \": \" + str(repo_weight[repo].most_common(5)))"
   ]
  },
  {
   "cell_type": "code",
   "execution_count": 105,
   "metadata": {},
   "outputs": [
    {
     "name": "stdout",
     "output_type": "stream",
     "text": [
      "Number of unique contributors for each Repo\n",
      "\n",
      "scikit-learn: 48\n",
      "linux: 26\n",
      "ipython: 16\n",
      "node: 49\n",
      "django: 32\n",
      "tensorflow: 46\n",
      "tidyverse: 10\n",
      "ggplot2: 31\n",
      "keras: 21\n",
      "spark: 46\n",
      "pandas: 38\n"
     ]
    }
   ],
   "source": [
    "print(\"Number of unique contributors for each Repo\\n\")\n",
    "for repo in repo_weight:\n",
    "    print(repo + \": \" + str(len(repo_weight[repo])))"
   ]
  },
  {
   "cell_type": "code",
   "execution_count": 106,
   "metadata": {},
   "outputs": [
    {
     "name": "stdout",
     "output_type": "stream",
     "text": [
      "Coders who contribute to more than one repo\n",
      "\n",
      "minho42: ['ipython', 'django']\n",
      "batpigandme: ['tidyverse', 'ggplot2']\n",
      "karawoo: ['tidyverse', 'ggplot2']\n",
      "topepo: ['tidyverse', 'ggplot2']\n",
      "hadley: ['tidyverse', 'ggplot2']\n"
     ]
    }
   ],
   "source": [
    "user_contributions = {}\n",
    "\n",
    "for repo in repo_user_list:\n",
    "    for user in repo_user_list[repo]:\n",
    "        if (user not in user_contributions):\n",
    "            user_contributions[user] = str(repo)\n",
    "        else:\n",
    "            tmp = str(user_contributions[user] + \" \" + repo).split(\" \")\n",
    "            user_contributions[user] = tmp\n",
    "\n",
    "print(\"Coders who contribute to more than one repo\\n\")\n",
    "for user in user_contributions:\n",
    "    if type(user_contributions[user]) != str:\n",
    "        print(user + \": \" + str(user_contributions[user]))"
   ]
  },
  {
   "cell_type": "code",
   "execution_count": 107,
   "metadata": {},
   "outputs": [],
   "source": [
    "number_of_contributions = Counter()\n",
    "for repo in repo_weight:\n",
    "    for user in repo_weight[repo]:\n",
    "        number_of_contributions[user] += repo_weight[repo][user]"
   ]
  },
  {
   "cell_type": "code",
   "execution_count": 108,
   "metadata": {},
   "outputs": [],
   "source": [
    "network_weight = nx.Graph()\n",
    "\n",
    "for repo in repo_weight:\n",
    "    size = sum(repo_weight[repo].values())\n",
    "    network_weight.add_node(repo, repo=repo, size=size, l=repo)\n",
    "\n",
    "for user in user_contributions:\n",
    "    repo = user_contributions[user]\n",
    "    if type(repo) == str:\n",
    "#         size = number_of_contributions[user]\n",
    "        weight = repo_weight[repo][user]\n",
    "        network_weight.add_node(user, repo=repo)\n",
    "        network_weight.add_edge(repo, user, weight=weight)\n",
    "    else:\n",
    "#         size = number_of_contributions[user]\n",
    "        network_weight.add_node(user, repo='multiple', size = 20, l=user)\n",
    "        for contribution in repo:              \n",
    "            weight = repo_weight[contribution][user]\n",
    "            network_weight.add_edge(contribution, user, weight=weight)"
   ]
  },
  {
   "cell_type": "code",
   "execution_count": 109,
   "metadata": {},
   "outputs": [],
   "source": [
    "network_weight = nx.Graph()\n",
    "\n",
    "for repo in repo_weight:\n",
    "    network_weight.add_node(repo, repo=repo)\n",
    "    for user in repo_weight[repo]:\n",
    "        if (network_weight.has_node(user)) == False:\n",
    "            network_weight.add_node(user, repo='multiple')\n",
    "            network_weight.add_edge(repo, user, weight=repo_weight[repo][user])\n",
    "        else:\n",
    "            network_weight.add_node(user, repo=repo)\n",
    "            network_weight.add_edge(repo, user, weight=repo_weight[repo][user])"
   ]
  },
  {
   "cell_type": "code",
   "execution_count": 112,
   "metadata": {},
   "outputs": [],
   "source": [
    "# degree centrality\n",
    "lDegCentrality = nx.degree_centrality(network_weight)\n",
    "for nodeId, cent in lDegCentrality.items():\n",
    "    network_weight.node[nodeId]['degree'] = float(cent)\n",
    "    \n",
    "# eigenvector centrality\n",
    "# eigen vector centrality make sno sense on bi-partite graphs\n",
    "# https://stackoverflow.com/questions/43208737/using-networkx-to-calculate-eigenvector-centrality?rq=1\n",
    "lEigenVectorCentrality = nx.eigenvector_centrality_numpy(network_weight)\n",
    "for nodeId, cent in lEigenVectorCentrality.items():\n",
    "    network_weight.node[nodeId]['eigen'] = float(cent)\n",
    "    \n",
    "# katz centrality\n",
    "lKatzCentrality = nx.katz_centrality(network_weight)    \n",
    "for nodeId, cent in lKatzCentrality.items():\n",
    "    network_weight.node[nodeId]['katz'] = float(cent)\n",
    "\n",
    "# Betweeness centrality\n",
    "lBetCentrality = nx.betweenness_centrality(network_weight)\n",
    "for nodeId, cent in lBetCentrality.items():\n",
    "    network_weight.node[nodeId]['betweenness'] = float(cent)"
   ]
  },
  {
   "cell_type": "code",
   "execution_count": 113,
   "metadata": {},
   "outputs": [
    {
     "name": "stdout",
     "output_type": "stream",
     "text": [
      "('tidyverse', 'batpigandme', 3)\n",
      "('tidyverse', 'hadley', 3)\n",
      "('tidyverse', 'topepo', 3)\n",
      "('tidyverse', 'karawoo', 3)\n",
      "('batpigandme', 'ggplot2', 3)\n",
      "('hadley', 'ggplot2', 3)\n",
      "('topepo', 'ggplot2', 3)\n",
      "('karawoo', 'ggplot2', 3)\n"
     ]
    }
   ],
   "source": [
    "for g in nx.local_bridges(network_weight, with_span=True, weight=None):\n",
    "    if g[2] < 100:\n",
    "        print(g)"
   ]
  },
  {
   "cell_type": "code",
   "execution_count": 114,
   "metadata": {},
   "outputs": [
    {
     "data": {
      "application/vnd.vegalite.v3+json": {
       "$schema": "https://vega.github.io/schema/vega-lite/v3.3.0.json",
       "config": {
        "legend": {
         "cornerRadius": 10,
         "fillColor": "#EEEEEE",
         "orient": "top-right",
         "padding": 10,
         "strokeColor": "gray"
        },
        "mark": {
         "tooltip": null
        },
        "view": {
         "height": 300,
         "width": 400
        }
       },
       "data": {
        "name": "data-92e49e8498ba9d7d191df647eb6b69ed"
       },
       "datasets": {
        "data-92e49e8498ba9d7d191df647eb6b69ed": [
         {
          "Betweenness Centrality": 0.016704181968961025,
          "Degree Centrality": 0.13043478260869565,
          "Eigenvector Centrality": 6.255666953996307e-16,
          "Katz Centrality": 0.2551455925690741
         },
         {
          "Betweenness Centrality": 0,
          "Degree Centrality": 0.002717391304347826,
          "Eigenvector Centrality": 9.455769439681692e-17,
          "Katz Centrality": 0.04838968134930713
         },
         {
          "Betweenness Centrality": 0,
          "Degree Centrality": 0.002717391304347826,
          "Eigenvector Centrality": 7.52108317063555e-17,
          "Katz Centrality": 0.04838968134930713
         },
         {
          "Betweenness Centrality": 0,
          "Degree Centrality": 0.002717391304347826,
          "Eigenvector Centrality": 9.485165820106897e-17,
          "Katz Centrality": 0.04838968134930713
         },
         {
          "Betweenness Centrality": 0,
          "Degree Centrality": 0.002717391304347826,
          "Eigenvector Centrality": 7.969462229842354e-17,
          "Katz Centrality": 0.04838968134930713
         },
         {
          "Betweenness Centrality": 0,
          "Degree Centrality": 0.002717391304347826,
          "Eigenvector Centrality": 8.359048528198748e-17,
          "Katz Centrality": 0.04838968134930713
         },
         {
          "Betweenness Centrality": 0,
          "Degree Centrality": 0.002717391304347826,
          "Eigenvector Centrality": 9.730676151290814e-17,
          "Katz Centrality": 0.04838968134930713
         },
         {
          "Betweenness Centrality": 0,
          "Degree Centrality": 0.002717391304347826,
          "Eigenvector Centrality": 8.951503554578028e-17,
          "Katz Centrality": 0.04838968134930713
         },
         {
          "Betweenness Centrality": 0,
          "Degree Centrality": 0.002717391304347826,
          "Eigenvector Centrality": 9.383731456095454e-17,
          "Katz Centrality": 0.04838968134930713
         },
         {
          "Betweenness Centrality": 0,
          "Degree Centrality": 0.002717391304347826,
          "Eigenvector Centrality": 8.532520875796429e-17,
          "Katz Centrality": 0.04838968134930713
         },
         {
          "Betweenness Centrality": 0,
          "Degree Centrality": 0.002717391304347826,
          "Eigenvector Centrality": 8.575162478957461e-17,
          "Katz Centrality": 0.04838968134930713
         },
         {
          "Betweenness Centrality": 0,
          "Degree Centrality": 0.002717391304347826,
          "Eigenvector Centrality": 8.99414515773906e-17,
          "Katz Centrality": 0.04838968134930713
         },
         {
          "Betweenness Centrality": 0,
          "Degree Centrality": 0.002717391304347826,
          "Eigenvector Centrality": 8.185576180601067e-17,
          "Katz Centrality": 0.04838968134930713
         },
         {
          "Betweenness Centrality": 0,
          "Degree Centrality": 0.002717391304347826,
          "Eigenvector Centrality": 9.41312783652066e-17,
          "Katz Centrality": 0.04838968134930713
         },
         {
          "Betweenness Centrality": 0,
          "Degree Centrality": 0.002717391304347826,
          "Eigenvector Centrality": 9.341089852934421e-17,
          "Katz Centrality": 0.04838968134930713
         },
         {
          "Betweenness Centrality": 0,
          "Degree Centrality": 0.002717391304347826,
          "Eigenvector Centrality": 8.287010544612511e-17,
          "Katz Centrality": 0.04838968134930713
         },
         {
          "Betweenness Centrality": 0,
          "Degree Centrality": 0.002717391304347826,
          "Eigenvector Centrality": 8.11353819701483e-17,
          "Katz Centrality": 0.04838968134930713
         },
         {
          "Betweenness Centrality": 0,
          "Degree Centrality": 0.002717391304347826,
          "Eigenvector Centrality": 8.70599322339411e-17,
          "Katz Centrality": 0.04838968134930713
         },
         {
          "Betweenness Centrality": 0,
          "Degree Centrality": 0.002717391304347826,
          "Eigenvector Centrality": 8.532520875796429e-17,
          "Katz Centrality": 0.04838968134930713
         },
         {
          "Betweenness Centrality": 0,
          "Degree Centrality": 0.002717391304347826,
          "Eigenvector Centrality": 1.0293734797244888e-16,
          "Katz Centrality": 0.04838968134930713
         },
         {
          "Betweenness Centrality": 0,
          "Degree Centrality": 0.002717391304347826,
          "Eigenvector Centrality": 7.550479551060756e-17,
          "Katz Centrality": 0.04838968134930713
         },
         {
          "Betweenness Centrality": 0,
          "Degree Centrality": 0.002717391304347826,
          "Eigenvector Centrality": 9.239655488922979e-17,
          "Katz Centrality": 0.04838968134930713
         },
         {
          "Betweenness Centrality": 0,
          "Degree Centrality": 0.002717391304347826,
          "Eigenvector Centrality": 9.138221124911536e-17,
          "Katz Centrality": 0.04838968134930713
         },
         {
          "Betweenness Centrality": 0,
          "Degree Centrality": 0.002717391304347826,
          "Eigenvector Centrality": 8.820672810141379e-17,
          "Katz Centrality": 0.04838968134930713
         },
         {
          "Betweenness Centrality": 0,
          "Degree Centrality": 0.002717391304347826,
          "Eigenvector Centrality": 7.723951898658436e-17,
          "Katz Centrality": 0.04838968134930713
         },
         {
          "Betweenness Centrality": 0,
          "Degree Centrality": 0.002717391304347826,
          "Eigenvector Centrality": 8.041500213428592e-17,
          "Katz Centrality": 0.04838968134930713
         },
         {
          "Betweenness Centrality": 0,
          "Degree Centrality": 0.002717391304347826,
          "Eigenvector Centrality": 8.359048528198748e-17,
          "Katz Centrality": 0.04838968134930713
         },
         {
          "Betweenness Centrality": 0,
          "Degree Centrality": 0.002717391304347826,
          "Eigenvector Centrality": 8.532520875796429e-17,
          "Katz Centrality": 0.04838968134930713
         },
         {
          "Betweenness Centrality": 0,
          "Degree Centrality": 0.002717391304347826,
          "Eigenvector Centrality": 9.197013885761947e-17,
          "Katz Centrality": 0.04838968134930713
         },
         {
          "Betweenness Centrality": 0,
          "Degree Centrality": 0.002717391304347826,
          "Eigenvector Centrality": 8.287010544612511e-17,
          "Katz Centrality": 0.04838968134930713
         },
         {
          "Betweenness Centrality": 0,
          "Degree Centrality": 0.002717391304347826,
          "Eigenvector Centrality": 8.951503554578028e-17,
          "Katz Centrality": 0.04838968134930713
         },
         {
          "Betweenness Centrality": 0,
          "Degree Centrality": 0.002717391304347826,
          "Eigenvector Centrality": 8.40169013135978e-17,
          "Katz Centrality": 0.04838968134930713
         },
         {
          "Betweenness Centrality": 0,
          "Degree Centrality": 0.002717391304347826,
          "Eigenvector Centrality": 9.70127977086561e-17,
          "Katz Centrality": 0.04838968134930713
         },
         {
          "Betweenness Centrality": 0,
          "Degree Centrality": 0.002717391304347826,
          "Eigenvector Centrality": 8.359048528198748e-17,
          "Katz Centrality": 0.04838968134930713
         },
         {
          "Betweenness Centrality": 0,
          "Degree Centrality": 0.002717391304347826,
          "Eigenvector Centrality": 9.095579521750503e-17,
          "Katz Centrality": 0.04838968134930713
         },
         {
          "Betweenness Centrality": 0,
          "Degree Centrality": 0.002717391304347826,
          "Eigenvector Centrality": 8.041500213428592e-17,
          "Katz Centrality": 0.04838968134930713
         },
         {
          "Betweenness Centrality": 0,
          "Degree Centrality": 0.002717391304347826,
          "Eigenvector Centrality": 9.052937918589471e-17,
          "Katz Centrality": 0.04838968134930713
         },
         {
          "Betweenness Centrality": 0,
          "Degree Centrality": 0.002717391304347826,
          "Eigenvector Centrality": 8.922107174152823e-17,
          "Katz Centrality": 0.04838968134930713
         },
         {
          "Betweenness Centrality": 0,
          "Degree Centrality": 0.002717391304347826,
          "Eigenvector Centrality": 8.676596842968905e-17,
          "Katz Centrality": 0.04838968134930713
         },
         {
          "Betweenness Centrality": 0,
          "Degree Centrality": 0.002717391304347826,
          "Eigenvector Centrality": 8.142934577440035e-17,
          "Katz Centrality": 0.04838968134930713
         },
         {
          "Betweenness Centrality": 0,
          "Degree Centrality": 0.002717391304347826,
          "Eigenvector Centrality": 9.16761750533674e-17,
          "Katz Centrality": 0.04838968134930713
         },
         {
          "Betweenness Centrality": 0,
          "Degree Centrality": 0.002717391304347826,
          "Eigenvector Centrality": 9.311693472509216e-17,
          "Katz Centrality": 0.04838968134930713
         },
         {
          "Betweenness Centrality": 0,
          "Degree Centrality": 0.002717391304347826,
          "Eigenvector Centrality": 8.892710793727618e-17,
          "Katz Centrality": 0.04838968134930713
         },
         {
          "Betweenness Centrality": 0,
          "Degree Centrality": 0.002717391304347826,
          "Eigenvector Centrality": 9.138221124911536e-17,
          "Katz Centrality": 0.04838968134930713
         },
         {
          "Betweenness Centrality": 0,
          "Degree Centrality": 0.002717391304347826,
          "Eigenvector Centrality": 8.99414515773906e-17,
          "Katz Centrality": 0.04838968134930713
         },
         {
          "Betweenness Centrality": 0,
          "Degree Centrality": 0.002717391304347826,
          "Eigenvector Centrality": 8.11353819701483e-17,
          "Katz Centrality": 0.04838968134930713
         },
         {
          "Betweenness Centrality": 0,
          "Degree Centrality": 0.002717391304347826,
          "Eigenvector Centrality": 8.676596842968905e-17,
          "Katz Centrality": 0.04838968134930713
         },
         {
          "Betweenness Centrality": 0,
          "Degree Centrality": 0.002717391304347826,
          "Eigenvector Centrality": 8.850069190566585e-17,
          "Katz Centrality": 0.04838968134930713
         },
         {
          "Betweenness Centrality": 0,
          "Degree Centrality": 0.002717391304347826,
          "Eigenvector Centrality": 8.951503554578028e-17,
          "Katz Centrality": 0.04838968134930713
         },
         {
          "Betweenness Centrality": 0.0048128183864471034,
          "Degree Centrality": 0.07065217391304347,
          "Eigenvector Centrality": -3.4780337457458865e-16,
          "Katz Centrality": 0.1112848019012063
         },
         {
          "Betweenness Centrality": 0,
          "Degree Centrality": 0.002717391304347826,
          "Eigenvector Centrality": -9.946456372936937e-17,
          "Katz Centrality": 0.034003689469813025
         },
         {
          "Betweenness Centrality": 0,
          "Degree Centrality": 0.002717391304347826,
          "Eigenvector Centrality": -8.421384792854922e-17,
          "Katz Centrality": 0.034003689469813025
         },
         {
          "Betweenness Centrality": 0,
          "Degree Centrality": 0.002717391304347826,
          "Eigenvector Centrality": -9.2159820635187e-17,
          "Katz Centrality": 0.034003689469813025
         },
         {
          "Betweenness Centrality": 0,
          "Degree Centrality": 0.002717391304347826,
          "Eigenvector Centrality": -9.476190584915221e-17,
          "Katz Centrality": 0.034003689469813025
         },
         {
          "Betweenness Centrality": 0,
          "Degree Centrality": 0.002717391304347826,
          "Eigenvector Centrality": -1.0562817022842302e-16,
          "Katz Centrality": 0.034003689469813025
         },
         {
          "Betweenness Centrality": 0,
          "Degree Centrality": 0.002717391304347826,
          "Eigenvector Centrality": -8.76170687668237e-17,
          "Katz Centrality": 0.034003689469813025
         },
         {
          "Betweenness Centrality": 0,
          "Degree Centrality": 0.002717391304347826,
          "Eigenvector Centrality": -1.1381480473536156e-16,
          "Katz Centrality": 0.034003689469813025
         },
         {
          "Betweenness Centrality": 0,
          "Degree Centrality": 0.002717391304347826,
          "Eigenvector Centrality": -9.105179709689784e-17,
          "Katz Centrality": 0.034003689469813025
         },
         {
          "Betweenness Centrality": 0,
          "Degree Centrality": 0.002717391304347826,
          "Eigenvector Centrality": -9.245944371178302e-17,
          "Katz Centrality": 0.034003689469813025
         },
         {
          "Betweenness Centrality": 0,
          "Degree Centrality": 0.002717391304347826,
          "Eigenvector Centrality": -9.648936448774514e-17,
          "Katz Centrality": 0.034003689469813025
         },
         {
          "Betweenness Centrality": 0,
          "Degree Centrality": 0.002717391304347826,
          "Eigenvector Centrality": -8.347327914557512e-17,
          "Katz Centrality": 0.034003689469813025
         },
         {
          "Betweenness Centrality": 0,
          "Degree Centrality": 0.002717391304347826,
          "Eigenvector Centrality": -9.903814769775905e-17,
          "Katz Centrality": 0.034003689469813025
         },
         {
          "Betweenness Centrality": 0,
          "Degree Centrality": 0.002717391304347826,
          "Eigenvector Centrality": -1.0589628581321939e-16,
          "Katz Centrality": 0.034003689469813025
         },
         {
          "Betweenness Centrality": 0,
          "Degree Centrality": 0.002717391304347826,
          "Eigenvector Centrality": -8.335375102794469e-17,
          "Katz Centrality": 0.034003689469813025
         },
         {
          "Betweenness Centrality": 0,
          "Degree Centrality": 0.002717391304347826,
          "Eigenvector Centrality": -9.881041000718613e-17,
          "Katz Centrality": 0.034003689469813025
         },
         {
          "Betweenness Centrality": 0,
          "Degree Centrality": 0.002717391304347826,
          "Eigenvector Centrality": -9.230680253731303e-17,
          "Katz Centrality": 0.034003689469813025
         },
         {
          "Betweenness Centrality": 0,
          "Degree Centrality": 0.002717391304347826,
          "Eigenvector Centrality": -7.77360886781318e-17,
          "Katz Centrality": 0.034003689469813025
         },
         {
          "Betweenness Centrality": 0,
          "Degree Centrality": 0.002717391304347826,
          "Eigenvector Centrality": -8.557545737686699e-17,
          "Katz Centrality": 0.034003689469813025
         },
         {
          "Betweenness Centrality": 0,
          "Degree Centrality": 0.002717391304347826,
          "Eigenvector Centrality": -1.028532548928761e-16,
          "Katz Centrality": 0.034003689469813025
         },
         {
          "Betweenness Centrality": 0,
          "Degree Centrality": 0.002717391304347826,
          "Eigenvector Centrality": -8.460715090331998e-17,
          "Katz Centrality": 0.034003689469813025
         },
         {
          "Betweenness Centrality": 0,
          "Degree Centrality": 0.002717391304347826,
          "Eigenvector Centrality": -1.027999528889248e-16,
          "Katz Centrality": 0.034003689469813025
         },
         {
          "Betweenness Centrality": 0,
          "Degree Centrality": 0.002717391304347826,
          "Eigenvector Centrality": -8.591545834768646e-17,
          "Katz Centrality": 0.034003689469813025
         },
         {
          "Betweenness Centrality": 0,
          "Degree Centrality": 0.002717391304347826,
          "Eigenvector Centrality": -1.0596251192689852e-16,
          "Katz Centrality": 0.034003689469813025
         },
         {
          "Betweenness Centrality": 0,
          "Degree Centrality": 0.002717391304347826,
          "Eigenvector Centrality": -9.224623569597785e-17,
          "Katz Centrality": 0.034003689469813025
         },
         {
          "Betweenness Centrality": 0,
          "Degree Centrality": 0.002717391304347826,
          "Eigenvector Centrality": -8.949716857988662e-17,
          "Katz Centrality": 0.034003689469813025
         },
         {
          "Betweenness Centrality": 0,
          "Degree Centrality": 0.002717391304347826,
          "Eigenvector Centrality": -1.0512826324574968e-16,
          "Katz Centrality": 0.034003689469813025
         },
         {
          "Betweenness Centrality": 0.008885203174979268,
          "Degree Centrality": 0.043478260869565216,
          "Eigenvector Centrality": -2.84624961980275e-16,
          "Katz Centrality": 0.07249891223977814
         },
         {
          "Betweenness Centrality": 0,
          "Degree Centrality": 0.002717391304347826,
          "Eigenvector Centrality": -5.288378779259256e-17,
          "Katz Centrality": 0.030125100500425543
         },
         {
          "Betweenness Centrality": 0,
          "Degree Centrality": 0.002717391304347826,
          "Eigenvector Centrality": -4.5097486610133355e-17,
          "Katz Centrality": 0.030125100500425543
         },
         {
          "Betweenness Centrality": 0,
          "Degree Centrality": 0.002717391304347826,
          "Eigenvector Centrality": -5.01438757405079e-17,
          "Katz Centrality": 0.030125100500425543
         },
         {
          "Betweenness Centrality": 0,
          "Degree Centrality": 0.002717391304347826,
          "Eigenvector Centrality": -6.53933510883338e-17,
          "Katz Centrality": 0.030125100500425543
         },
         {
          "Betweenness Centrality": 0,
          "Degree Centrality": 0.002717391304347826,
          "Eigenvector Centrality": -4.9958329666335387e-17,
          "Katz Centrality": 0.030125100500425543
         },
         {
          "Betweenness Centrality": 0,
          "Degree Centrality": 0.002717391304347826,
          "Eigenvector Centrality": -5.535690765050698e-17,
          "Katz Centrality": 0.030125100500425543
         },
         {
          "Betweenness Centrality": 0.0075820400426489755,
          "Degree Centrality": 0.005434782608695652,
          "Eigenvector Centrality": -2.0695026097336841e-16,
          "Katz Centrality": 0.0443605221288008
         },
         {
          "Betweenness Centrality": 0,
          "Degree Centrality": 0.002717391304347826,
          "Eigenvector Centrality": -4.433094790368835e-17,
          "Katz Centrality": 0.030125100500425543
         },
         {
          "Betweenness Centrality": 0,
          "Degree Centrality": 0.002717391304347826,
          "Eigenvector Centrality": -4.58774034786427e-17,
          "Katz Centrality": 0.030125100500425543
         },
         {
          "Betweenness Centrality": 0,
          "Degree Centrality": 0.002717391304347826,
          "Eigenvector Centrality": -4.645066727251875e-17,
          "Katz Centrality": 0.030125100500425543
         },
         {
          "Betweenness Centrality": 0,
          "Degree Centrality": 0.002717391304347826,
          "Eigenvector Centrality": -7.105261042916417e-17,
          "Katz Centrality": 0.030125100500425543
         },
         {
          "Betweenness Centrality": 0,
          "Degree Centrality": 0.002717391304347826,
          "Eigenvector Centrality": -5.376739755404871e-17,
          "Katz Centrality": 0.030125100500425543
         },
         {
          "Betweenness Centrality": 0,
          "Degree Centrality": 0.002717391304347826,
          "Eigenvector Centrality": -3.8171657389000396e-17,
          "Katz Centrality": 0.030125100500425543
         },
         {
          "Betweenness Centrality": 0,
          "Degree Centrality": 0.002717391304347826,
          "Eigenvector Centrality": -3.9235775936527205e-17,
          "Katz Centrality": 0.030125100500425543
         },
         {
          "Betweenness Centrality": 0,
          "Degree Centrality": 0.002717391304347826,
          "Eigenvector Centrality": -5.746133230011207e-17,
          "Katz Centrality": 0.030125100500425543
         },
         {
          "Betweenness Centrality": 0,
          "Degree Centrality": 0.002717391304347826,
          "Eigenvector Centrality": -4.507161952164646e-17,
          "Katz Centrality": 0.030125100500425543
         },
         {
          "Betweenness Centrality": 0.017414998222959367,
          "Degree Centrality": 0.1331521739130435,
          "Eigenvector Centrality": 0.7071067811865476,
          "Katz Centrality": 0.26463334192713245
         },
         {
          "Betweenness Centrality": 0,
          "Degree Centrality": 0.002717391304347826,
          "Eigenvector Centrality": 0.10101525445522107,
          "Katz Centrality": 0.04933841968132984
         },
         {
          "Betweenness Centrality": 0,
          "Degree Centrality": 0.002717391304347826,
          "Eigenvector Centrality": 0.10101525445522105,
          "Katz Centrality": 0.04933841968132984
         },
         {
          "Betweenness Centrality": 0,
          "Degree Centrality": 0.002717391304347826,
          "Eigenvector Centrality": 0.10101525445522107,
          "Katz Centrality": 0.04933841968132984
         },
         {
          "Betweenness Centrality": 0,
          "Degree Centrality": 0.002717391304347826,
          "Eigenvector Centrality": 0.10101525445522105,
          "Katz Centrality": 0.04933841968132984
         },
         {
          "Betweenness Centrality": 0,
          "Degree Centrality": 0.002717391304347826,
          "Eigenvector Centrality": 0.10101525445522107,
          "Katz Centrality": 0.04933841968132984
         },
         {
          "Betweenness Centrality": 0,
          "Degree Centrality": 0.002717391304347826,
          "Eigenvector Centrality": 0.10101525445522105,
          "Katz Centrality": 0.04933841968132984
         },
         {
          "Betweenness Centrality": 0,
          "Degree Centrality": 0.002717391304347826,
          "Eigenvector Centrality": 0.10101525445522104,
          "Katz Centrality": 0.04933841968132984
         },
         {
          "Betweenness Centrality": 0,
          "Degree Centrality": 0.002717391304347826,
          "Eigenvector Centrality": 0.10101525445522108,
          "Katz Centrality": 0.04933841968132984
         },
         {
          "Betweenness Centrality": 0,
          "Degree Centrality": 0.002717391304347826,
          "Eigenvector Centrality": 0.10101525445522104,
          "Katz Centrality": 0.04933841968132984
         },
         {
          "Betweenness Centrality": 0,
          "Degree Centrality": 0.002717391304347826,
          "Eigenvector Centrality": 0.10101525445522107,
          "Katz Centrality": 0.04933841968132984
         },
         {
          "Betweenness Centrality": 0,
          "Degree Centrality": 0.002717391304347826,
          "Eigenvector Centrality": 0.10101525445522105,
          "Katz Centrality": 0.04933841968132984
         },
         {
          "Betweenness Centrality": 0,
          "Degree Centrality": 0.002717391304347826,
          "Eigenvector Centrality": 0.10101525445522105,
          "Katz Centrality": 0.04933841968132984
         },
         {
          "Betweenness Centrality": 0,
          "Degree Centrality": 0.002717391304347826,
          "Eigenvector Centrality": 0.10101525445522108,
          "Katz Centrality": 0.04933841968132984
         },
         {
          "Betweenness Centrality": 0,
          "Degree Centrality": 0.002717391304347826,
          "Eigenvector Centrality": 0.10101525445522107,
          "Katz Centrality": 0.04933841968132984
         },
         {
          "Betweenness Centrality": 0,
          "Degree Centrality": 0.002717391304347826,
          "Eigenvector Centrality": 0.10101525445522107,
          "Katz Centrality": 0.04933841968132984
         },
         {
          "Betweenness Centrality": 0,
          "Degree Centrality": 0.002717391304347826,
          "Eigenvector Centrality": 0.10101525445522108,
          "Katz Centrality": 0.04933841968132984
         },
         {
          "Betweenness Centrality": 0,
          "Degree Centrality": 0.002717391304347826,
          "Eigenvector Centrality": 0.10101525445522111,
          "Katz Centrality": 0.04933841968132984
         },
         {
          "Betweenness Centrality": 0,
          "Degree Centrality": 0.002717391304347826,
          "Eigenvector Centrality": 0.10101525445522107,
          "Katz Centrality": 0.04933841968132984
         },
         {
          "Betweenness Centrality": 0,
          "Degree Centrality": 0.002717391304347826,
          "Eigenvector Centrality": 0.10101525445522107,
          "Katz Centrality": 0.04933841968132984
         },
         {
          "Betweenness Centrality": 0,
          "Degree Centrality": 0.002717391304347826,
          "Eigenvector Centrality": 0.10101525445522105,
          "Katz Centrality": 0.04933841968132984
         },
         {
          "Betweenness Centrality": 0,
          "Degree Centrality": 0.002717391304347826,
          "Eigenvector Centrality": 0.10101525445522105,
          "Katz Centrality": 0.04933841968132984
         },
         {
          "Betweenness Centrality": 0,
          "Degree Centrality": 0.002717391304347826,
          "Eigenvector Centrality": 0.10101525445522107,
          "Katz Centrality": 0.04933841968132984
         },
         {
          "Betweenness Centrality": 0,
          "Degree Centrality": 0.002717391304347826,
          "Eigenvector Centrality": 0.10101525445522107,
          "Katz Centrality": 0.04933841968132984
         },
         {
          "Betweenness Centrality": 0,
          "Degree Centrality": 0.002717391304347826,
          "Eigenvector Centrality": 0.10101525445522108,
          "Katz Centrality": 0.04933841968132984
         },
         {
          "Betweenness Centrality": 0,
          "Degree Centrality": 0.002717391304347826,
          "Eigenvector Centrality": 0.10101525445522107,
          "Katz Centrality": 0.04933841968132984
         },
         {
          "Betweenness Centrality": 0,
          "Degree Centrality": 0.002717391304347826,
          "Eigenvector Centrality": 0.10101525445522104,
          "Katz Centrality": 0.04933841968132984
         },
         {
          "Betweenness Centrality": 0,
          "Degree Centrality": 0.002717391304347826,
          "Eigenvector Centrality": 0.10101525445522105,
          "Katz Centrality": 0.04933841968132984
         },
         {
          "Betweenness Centrality": 0,
          "Degree Centrality": 0.002717391304347826,
          "Eigenvector Centrality": 0.10101525445522107,
          "Katz Centrality": 0.04933841968132984
         },
         {
          "Betweenness Centrality": 0,
          "Degree Centrality": 0.002717391304347826,
          "Eigenvector Centrality": 0.10101525445522108,
          "Katz Centrality": 0.04933841968132984
         },
         {
          "Betweenness Centrality": 0,
          "Degree Centrality": 0.002717391304347826,
          "Eigenvector Centrality": 0.10101525445522105,
          "Katz Centrality": 0.04933841968132984
         },
         {
          "Betweenness Centrality": 0,
          "Degree Centrality": 0.002717391304347826,
          "Eigenvector Centrality": 0.10101525445522105,
          "Katz Centrality": 0.04933841968132984
         },
         {
          "Betweenness Centrality": 0,
          "Degree Centrality": 0.002717391304347826,
          "Eigenvector Centrality": 0.10101525445522111,
          "Katz Centrality": 0.04933841968132984
         },
         {
          "Betweenness Centrality": 0,
          "Degree Centrality": 0.002717391304347826,
          "Eigenvector Centrality": 0.1010152544552211,
          "Katz Centrality": 0.04933841968132984
         },
         {
          "Betweenness Centrality": 0,
          "Degree Centrality": 0.002717391304347826,
          "Eigenvector Centrality": 0.1010152544552211,
          "Katz Centrality": 0.04933841968132984
         },
         {
          "Betweenness Centrality": 0,
          "Degree Centrality": 0.002717391304347826,
          "Eigenvector Centrality": 0.10101525445522107,
          "Katz Centrality": 0.04933841968132984
         },
         {
          "Betweenness Centrality": 0,
          "Degree Centrality": 0.002717391304347826,
          "Eigenvector Centrality": 0.10101525445522111,
          "Katz Centrality": 0.04933841968132984
         },
         {
          "Betweenness Centrality": 0,
          "Degree Centrality": 0.002717391304347826,
          "Eigenvector Centrality": 0.1010152544552211,
          "Katz Centrality": 0.04933841968132984
         },
         {
          "Betweenness Centrality": 0,
          "Degree Centrality": 0.002717391304347826,
          "Eigenvector Centrality": 0.10101525445522107,
          "Katz Centrality": 0.04933841968132984
         },
         {
          "Betweenness Centrality": 0,
          "Degree Centrality": 0.002717391304347826,
          "Eigenvector Centrality": 0.10101525445522108,
          "Katz Centrality": 0.04933841968132984
         },
         {
          "Betweenness Centrality": 0,
          "Degree Centrality": 0.002717391304347826,
          "Eigenvector Centrality": 0.10101525445522105,
          "Katz Centrality": 0.04933841968132984
         },
         {
          "Betweenness Centrality": 0,
          "Degree Centrality": 0.002717391304347826,
          "Eigenvector Centrality": 0.1010152544552211,
          "Katz Centrality": 0.04933841968132984
         },
         {
          "Betweenness Centrality": 0,
          "Degree Centrality": 0.002717391304347826,
          "Eigenvector Centrality": 0.10101525445522105,
          "Katz Centrality": 0.04933841968132984
         },
         {
          "Betweenness Centrality": 0,
          "Degree Centrality": 0.002717391304347826,
          "Eigenvector Centrality": 0.10101525445522111,
          "Katz Centrality": 0.04933841968132984
         },
         {
          "Betweenness Centrality": 0,
          "Degree Centrality": 0.002717391304347826,
          "Eigenvector Centrality": 0.10101525445522107,
          "Katz Centrality": 0.04933841968132984
         },
         {
          "Betweenness Centrality": 0,
          "Degree Centrality": 0.002717391304347826,
          "Eigenvector Centrality": 0.10101525445522104,
          "Katz Centrality": 0.04933841968132984
         },
         {
          "Betweenness Centrality": 0,
          "Degree Centrality": 0.002717391304347826,
          "Eigenvector Centrality": 0.10101525445522108,
          "Katz Centrality": 0.04933841968132984
         },
         {
          "Betweenness Centrality": 0,
          "Degree Centrality": 0.002717391304347826,
          "Eigenvector Centrality": 0.10101525445522105,
          "Katz Centrality": 0.04933841968132984
         },
         {
          "Betweenness Centrality": 0,
          "Degree Centrality": 0.002717391304347826,
          "Eigenvector Centrality": 0.10101525445522107,
          "Katz Centrality": 0.04933841968132984
         },
         {
          "Betweenness Centrality": 0,
          "Degree Centrality": 0.002717391304347826,
          "Eigenvector Centrality": 0.10101525445522105,
          "Katz Centrality": 0.04933841968132984
         },
         {
          "Betweenness Centrality": 0.01469020258263239,
          "Degree Centrality": 0.08695652173913043,
          "Eigenvector Centrality": -8.913585840166754e-16,
          "Katz Centrality": 0.14235421722142977
         },
         {
          "Betweenness Centrality": 0,
          "Degree Centrality": 0.002717391304347826,
          "Eigenvector Centrality": -1.4267293697462692e-16,
          "Katz Centrality": 0.0371106309106613
         },
         {
          "Betweenness Centrality": 0,
          "Degree Centrality": 0.002717391304347826,
          "Eigenvector Centrality": -1.4332709069681017e-16,
          "Katz Centrality": 0.0371106309106613
         },
         {
          "Betweenness Centrality": 0,
          "Degree Centrality": 0.002717391304347826,
          "Eigenvector Centrality": -1.590979024274154e-16,
          "Katz Centrality": 0.0371106309106613
         },
         {
          "Betweenness Centrality": 0,
          "Degree Centrality": 0.002717391304347826,
          "Eigenvector Centrality": -1.5657657300189707e-16,
          "Katz Centrality": 0.0371106309106613
         },
         {
          "Betweenness Centrality": 0,
          "Degree Centrality": 0.002717391304347826,
          "Eigenvector Centrality": -1.2679552123611916e-16,
          "Katz Centrality": 0.0371106309106613
         },
         {
          "Betweenness Centrality": 0,
          "Degree Centrality": 0.002717391304347826,
          "Eigenvector Centrality": -1.3708272840930966e-16,
          "Katz Centrality": 0.0371106309106613
         },
         {
          "Betweenness Centrality": 0,
          "Degree Centrality": 0.002717391304347826,
          "Eigenvector Centrality": -1.4650257384451172e-16,
          "Katz Centrality": 0.0371106309106613
         },
         {
          "Betweenness Centrality": 0,
          "Degree Centrality": 0.002717391304347826,
          "Eigenvector Centrality": -1.3498781501540165e-16,
          "Katz Centrality": 0.0371106309106613
         },
         {
          "Betweenness Centrality": 0,
          "Degree Centrality": 0.002717391304347826,
          "Eigenvector Centrality": -1.371489545229888e-16,
          "Katz Centrality": 0.0371106309106613
         },
         {
          "Betweenness Centrality": 0,
          "Degree Centrality": 0.002717391304347826,
          "Eigenvector Centrality": -1.4151161143238648e-16,
          "Katz Centrality": 0.0371106309106613
         },
         {
          "Betweenness Centrality": 0,
          "Degree Centrality": 0.002717391304347826,
          "Eigenvector Centrality": -1.392842458111202e-16,
          "Katz Centrality": 0.0371106309106613
         },
         {
          "Betweenness Centrality": 0,
          "Degree Centrality": 0.002717391304347826,
          "Eigenvector Centrality": -1.4267293697462692e-16,
          "Katz Centrality": 0.0371106309106613
         },
         {
          "Betweenness Centrality": 0,
          "Degree Centrality": 0.002717391304347826,
          "Eigenvector Centrality": -1.4336746859103362e-16,
          "Katz Centrality": 0.0371106309106613
         },
         {
          "Betweenness Centrality": 0,
          "Degree Centrality": 0.002717391304347826,
          "Eigenvector Centrality": -1.4574181611442592e-16,
          "Katz Centrality": 0.0371106309106613
         },
         {
          "Betweenness Centrality": 0,
          "Degree Centrality": 0.002717391304347826,
          "Eigenvector Centrality": -1.3534800493333286e-16,
          "Katz Centrality": 0.0371106309106613
         },
         {
          "Betweenness Centrality": 0,
          "Degree Centrality": 0.002717391304347826,
          "Eigenvector Centrality": -1.4809031541836252e-16,
          "Katz Centrality": 0.0371106309106613
         },
         {
          "Betweenness Centrality": 0,
          "Degree Centrality": 0.002717391304347826,
          "Eigenvector Centrality": -1.4614238392658053e-16,
          "Katz Centrality": 0.0371106309106613
         },
         {
          "Betweenness Centrality": 0,
          "Degree Centrality": 0.002717391304347826,
          "Eigenvector Centrality": -1.332934694336483e-16,
          "Katz Centrality": 0.0371106309106613
         },
         {
          "Betweenness Centrality": 0,
          "Degree Centrality": 0.002717391304347826,
          "Eigenvector Centrality": -1.3346629955523002e-16,
          "Katz Centrality": 0.0371106309106613
         },
         {
          "Betweenness Centrality": 0,
          "Degree Centrality": 0.002717391304347826,
          "Eigenvector Centrality": -1.317864836482444e-16,
          "Katz Centrality": 0.0371106309106613
         },
         {
          "Betweenness Centrality": 0,
          "Degree Centrality": 0.002717391304347826,
          "Eigenvector Centrality": -1.2812967689994132e-16,
          "Katz Centrality": 0.0371106309106613
         },
         {
          "Betweenness Centrality": 0,
          "Degree Centrality": 0.002717391304347826,
          "Eigenvector Centrality": -1.232598481704864e-16,
          "Katz Centrality": 0.0371106309106613
         },
         {
          "Betweenness Centrality": 0,
          "Degree Centrality": 0.002717391304347826,
          "Eigenvector Centrality": -1.4277954098252952e-16,
          "Katz Centrality": 0.0371106309106613
         },
         {
          "Betweenness Centrality": 0,
          "Degree Centrality": 0.002717391304347826,
          "Eigenvector Centrality": -1.33319317653104e-16,
          "Katz Centrality": 0.0371106309106613
         },
         {
          "Betweenness Centrality": 0,
          "Degree Centrality": 0.002717391304347826,
          "Eigenvector Centrality": -1.3953783172114882e-16,
          "Katz Centrality": 0.0371106309106613
         },
         {
          "Betweenness Centrality": 0,
          "Degree Centrality": 0.002717391304347826,
          "Eigenvector Centrality": -1.3365365935157948e-16,
          "Katz Centrality": 0.0371106309106613
         },
         {
          "Betweenness Centrality": 0,
          "Degree Centrality": 0.002717391304347826,
          "Eigenvector Centrality": -1.356678169570406e-16,
          "Katz Centrality": 0.0371106309106613
         },
         {
          "Betweenness Centrality": 0,
          "Degree Centrality": 0.002717391304347826,
          "Eigenvector Centrality": -1.3466800299169391e-16,
          "Katz Centrality": 0.0371106309106613
         },
         {
          "Betweenness Centrality": 0,
          "Degree Centrality": 0.002717391304347826,
          "Eigenvector Centrality": -1.3657555658925245e-16,
          "Katz Centrality": 0.0371106309106613
         },
         {
          "Betweenness Centrality": 0,
          "Degree Centrality": 0.002717391304347826,
          "Eigenvector Centrality": -1.35561212949138e-16,
          "Katz Centrality": 0.0371106309106613
         },
         {
          "Betweenness Centrality": 0,
          "Degree Centrality": 0.002717391304347826,
          "Eigenvector Centrality": -1.4798371141045994e-16,
          "Katz Centrality": 0.0371106309106613
         },
         {
          "Betweenness Centrality": 0.015326975476839238,
          "Degree Centrality": 0.125,
          "Eigenvector Centrality": -1.463835567061672e-14,
          "Katz Centrality": 0.23722395398344456
         },
         {
          "Betweenness Centrality": 0,
          "Degree Centrality": 0.002717391304347826,
          "Eigenvector Centrality": -2.1635094608770086e-15,
          "Katz Centrality": 0.04659756238960518
         },
         {
          "Betweenness Centrality": 0,
          "Degree Centrality": 0.002717391304347826,
          "Eigenvector Centrality": -2.176211393467815e-15,
          "Katz Centrality": 0.04659756238960518
         },
         {
          "Betweenness Centrality": 0,
          "Degree Centrality": 0.002717391304347826,
          "Eigenvector Centrality": -2.1623336056600004e-15,
          "Katz Centrality": 0.04659756238960518
         },
         {
          "Betweenness Centrality": 0,
          "Degree Centrality": 0.002717391304347826,
          "Eigenvector Centrality": -2.172154018907357e-15,
          "Katz Centrality": 0.04659756238960518
         },
         {
          "Betweenness Centrality": 0,
          "Degree Centrality": 0.002717391304347826,
          "Eigenvector Centrality": -2.1467501537257443e-15,
          "Katz Centrality": 0.04659756238960518
         },
         {
          "Betweenness Centrality": 0,
          "Degree Centrality": 0.002717391304347826,
          "Eigenvector Centrality": -2.1467501537257443e-15,
          "Katz Centrality": 0.04659756238960518
         },
         {
          "Betweenness Centrality": 0,
          "Degree Centrality": 0.002717391304347826,
          "Eigenvector Centrality": -2.159452086316551e-15,
          "Katz Centrality": 0.04659756238960518
         },
         {
          "Betweenness Centrality": 0,
          "Degree Centrality": 0.002717391304347826,
          "Eigenvector Centrality": -2.159452086316551e-15,
          "Katz Centrality": 0.04659756238960518
         },
         {
          "Betweenness Centrality": 0,
          "Degree Centrality": 0.002717391304347826,
          "Eigenvector Centrality": -2.1467501537257443e-15,
          "Katz Centrality": 0.04659756238960518
         },
         {
          "Betweenness Centrality": 0,
          "Degree Centrality": 0.002717391304347826,
          "Eigenvector Centrality": -2.1692724995639076e-15,
          "Katz Centrality": 0.04659756238960518
         },
         {
          "Betweenness Centrality": 0,
          "Degree Centrality": 0.002717391304347826,
          "Eigenvector Centrality": -2.159452086316551e-15,
          "Katz Centrality": 0.04659756238960518
         },
         {
          "Betweenness Centrality": 0,
          "Degree Centrality": 0.002717391304347826,
          "Eigenvector Centrality": -2.159452086316551e-15,
          "Katz Centrality": 0.04659756238960518
         },
         {
          "Betweenness Centrality": 0,
          "Degree Centrality": 0.002717391304347826,
          "Eigenvector Centrality": -2.139811259821837e-15,
          "Katz Centrality": 0.04659756238960518
         },
         {
          "Betweenness Centrality": 0,
          "Degree Centrality": 0.002717391304347826,
          "Eigenvector Centrality": -2.177917057594256e-15,
          "Katz Centrality": 0.04659756238960518
         },
         {
          "Betweenness Centrality": 0,
          "Degree Centrality": 0.002717391304347826,
          "Eigenvector Centrality": -2.1565705669731014e-15,
          "Katz Centrality": 0.04659756238960518
         },
         {
          "Betweenness Centrality": 0,
          "Degree Centrality": 0.002717391304347826,
          "Eigenvector Centrality": -2.1848559514981633e-15,
          "Katz Centrality": 0.04659756238960518
         },
         {
          "Betweenness Centrality": 0,
          "Degree Centrality": 0.002717391304347826,
          "Eigenvector Centrality": -2.172154018907357e-15,
          "Katz Centrality": 0.04659756238960518
         },
         {
          "Betweenness Centrality": 0,
          "Degree Centrality": 0.002717391304347826,
          "Eigenvector Centrality": -2.1565705669731014e-15,
          "Katz Centrality": 0.04659756238960518
         },
         {
          "Betweenness Centrality": 0,
          "Degree Centrality": 0.002717391304347826,
          "Eigenvector Centrality": -2.172154018907357e-15,
          "Katz Centrality": 0.04659756238960518
         },
         {
          "Betweenness Centrality": 0,
          "Degree Centrality": 0.002717391304347826,
          "Eigenvector Centrality": -2.1692724995639076e-15,
          "Katz Centrality": 0.04659756238960518
         },
         {
          "Betweenness Centrality": 0,
          "Degree Centrality": 0.002717391304347826,
          "Eigenvector Centrality": -2.1692724995639076e-15,
          "Katz Centrality": 0.04659756238960518
         },
         {
          "Betweenness Centrality": 0,
          "Degree Centrality": 0.002717391304347826,
          "Eigenvector Centrality": -2.159452086316551e-15,
          "Katz Centrality": 0.04659756238960518
         },
         {
          "Betweenness Centrality": 0,
          "Degree Centrality": 0.002717391304347826,
          "Eigenvector Centrality": -2.1692724995639076e-15,
          "Katz Centrality": 0.04659756238960518
         },
         {
          "Betweenness Centrality": 0,
          "Degree Centrality": 0.002717391304347826,
          "Eigenvector Centrality": -2.1467501537257443e-15,
          "Katz Centrality": 0.04659756238960518
         },
         {
          "Betweenness Centrality": 0,
          "Degree Centrality": 0.002717391304347826,
          "Eigenvector Centrality": -2.166390980220458e-15,
          "Katz Centrality": 0.04659756238960518
         },
         {
          "Betweenness Centrality": 0,
          "Degree Centrality": 0.002717391304347826,
          "Eigenvector Centrality": -2.1525131924126437e-15,
          "Katz Centrality": 0.04659756238960518
         },
         {
          "Betweenness Centrality": 0,
          "Degree Centrality": 0.002717391304347826,
          "Eigenvector Centrality": -2.166390980220458e-15,
          "Katz Centrality": 0.04659756238960518
         },
         {
          "Betweenness Centrality": 0,
          "Degree Centrality": 0.002717391304347826,
          "Eigenvector Centrality": -2.1692724995639076e-15,
          "Katz Centrality": 0.04659756238960518
         },
         {
          "Betweenness Centrality": 0,
          "Degree Centrality": 0.002717391304347826,
          "Eigenvector Centrality": -2.1692724995639076e-15,
          "Katz Centrality": 0.04659756238960518
         },
         {
          "Betweenness Centrality": 0,
          "Degree Centrality": 0.002717391304347826,
          "Eigenvector Centrality": -2.166390980220458e-15,
          "Katz Centrality": 0.04659756238960518
         },
         {
          "Betweenness Centrality": 0,
          "Degree Centrality": 0.002717391304347826,
          "Eigenvector Centrality": -2.159452086316551e-15,
          "Katz Centrality": 0.04659756238960518
         },
         {
          "Betweenness Centrality": 0,
          "Degree Centrality": 0.002717391304347826,
          "Eigenvector Centrality": -2.16521512500345e-15,
          "Katz Centrality": 0.04659756238960518
         },
         {
          "Betweenness Centrality": 0,
          "Degree Centrality": 0.002717391304347826,
          "Eigenvector Centrality": -2.166390980220458e-15,
          "Katz Centrality": 0.04659756238960518
         },
         {
          "Betweenness Centrality": 0,
          "Degree Centrality": 0.002717391304347826,
          "Eigenvector Centrality": -2.143868634382295e-15,
          "Katz Centrality": 0.04659756238960518
         },
         {
          "Betweenness Centrality": 0,
          "Degree Centrality": 0.002717391304347826,
          "Eigenvector Centrality": -2.166390980220458e-15,
          "Katz Centrality": 0.04659756238960518
         },
         {
          "Betweenness Centrality": 0,
          "Degree Centrality": 0.002717391304347826,
          "Eigenvector Centrality": -2.172154018907357e-15,
          "Katz Centrality": 0.04659756238960518
         },
         {
          "Betweenness Centrality": 0,
          "Degree Centrality": 0.002717391304347826,
          "Eigenvector Centrality": -2.149631673069194e-15,
          "Katz Centrality": 0.04659756238960518
         },
         {
          "Betweenness Centrality": 0,
          "Degree Centrality": 0.002717391304347826,
          "Eigenvector Centrality": -2.1692724995639076e-15,
          "Katz Centrality": 0.04659756238960518
         },
         {
          "Betweenness Centrality": 0,
          "Degree Centrality": 0.002717391304347826,
          "Eigenvector Centrality": -2.166390980220458e-15,
          "Katz Centrality": 0.04659756238960518
         },
         {
          "Betweenness Centrality": 0,
          "Degree Centrality": 0.002717391304347826,
          "Eigenvector Centrality": -2.166390980220458e-15,
          "Katz Centrality": 0.04659756238960518
         },
         {
          "Betweenness Centrality": 0,
          "Degree Centrality": 0.002717391304347826,
          "Eigenvector Centrality": -2.150807528286202e-15,
          "Katz Centrality": 0.04659756238960518
         },
         {
          "Betweenness Centrality": 0,
          "Degree Centrality": 0.002717391304347826,
          "Eigenvector Centrality": -2.159452086316551e-15,
          "Katz Centrality": 0.04659756238960518
         },
         {
          "Betweenness Centrality": 0,
          "Degree Centrality": 0.002717391304347826,
          "Eigenvector Centrality": -2.1692724995639076e-15,
          "Katz Centrality": 0.04659756238960518
         },
         {
          "Betweenness Centrality": 0,
          "Degree Centrality": 0.002717391304347826,
          "Eigenvector Centrality": -2.1692724995639076e-15,
          "Katz Centrality": 0.04659756238960518
         },
         {
          "Betweenness Centrality": 0,
          "Degree Centrality": 0.002717391304347826,
          "Eigenvector Centrality": -2.1692724995639076e-15,
          "Katz Centrality": 0.04659756238960518
         },
         {
          "Betweenness Centrality": 0,
          "Degree Centrality": 0.002717391304347826,
          "Eigenvector Centrality": -2.172154018907357e-15,
          "Katz Centrality": 0.04659756238960518
         },
         {
          "Betweenness Centrality": 0.0031098211112427438,
          "Degree Centrality": 0.02717391304347826,
          "Eigenvector Centrality": -1.0128319090893831e-15,
          "Katz Centrality": 0.057021832541775536
         },
         {
          "Betweenness Centrality": 0.0007256249259566403,
          "Degree Centrality": 0.005434782608695652,
          "Eigenvector Centrality": -6.877185884672382e-16,
          "Katz Centrality": 0.042500469405770736
         },
         {
          "Betweenness Centrality": 0.0007256249259566403,
          "Degree Centrality": 0.005434782608695652,
          "Eigenvector Centrality": -7.051506327227572e-16,
          "Katz Centrality": 0.042500469405770736
         },
         {
          "Betweenness Centrality": 0,
          "Degree Centrality": 0.002717391304347826,
          "Eigenvector Centrality": -2.552323806046156e-16,
          "Katz Centrality": 0.028577392522304252
         },
         {
          "Betweenness Centrality": 0,
          "Degree Centrality": 0.002717391304347826,
          "Eigenvector Centrality": -2.2756381218799146e-16,
          "Katz Centrality": 0.028577392522304252
         },
         {
          "Betweenness Centrality": 0.0007256249259566403,
          "Degree Centrality": 0.005434782608695652,
          "Eigenvector Centrality": -7.166985046087069e-16,
          "Katz Centrality": 0.042500469405770736
         },
         {
          "Betweenness Centrality": 0.0007256249259566403,
          "Degree Centrality": 0.005434782608695652,
          "Eigenvector Centrality": -7.019347716808322e-16,
          "Katz Centrality": 0.042500469405770736
         },
         {
          "Betweenness Centrality": 0,
          "Degree Centrality": 0.002717391304347826,
          "Eigenvector Centrality": -2.295888670495284e-16,
          "Katz Centrality": 0.028577392522304252
         },
         {
          "Betweenness Centrality": 0,
          "Degree Centrality": 0.002717391304347826,
          "Eigenvector Centrality": -2.3239345377017683e-16,
          "Katz Centrality": 0.028577392522304252
         },
         {
          "Betweenness Centrality": 0,
          "Degree Centrality": 0.002717391304347826,
          "Eigenvector Centrality": -2.4535917206672057e-16,
          "Katz Centrality": 0.028577392522304252
         },
         {
          "Betweenness Centrality": 0,
          "Degree Centrality": 0.002717391304347826,
          "Eigenvector Centrality": -2.435403564527119e-16,
          "Katz Centrality": 0.028577392522304252
         },
         {
          "Betweenness Centrality": 0.009640445444852506,
          "Degree Centrality": 0.08423913043478261,
          "Eigenvector Centrality": -2.7235569972082995e-15,
          "Katz Centrality": 0.1392307696040876
         },
         {
          "Betweenness Centrality": 0,
          "Degree Centrality": 0.002717391304347826,
          "Eigenvector Centrality": -4.580489656292629e-16,
          "Katz Centrality": 0.036798286165752536
         },
         {
          "Betweenness Centrality": 0,
          "Degree Centrality": 0.002717391304347826,
          "Eigenvector Centrality": -4.595042549757554e-16,
          "Katz Centrality": 0.036798286165752536
         },
         {
          "Betweenness Centrality": 0,
          "Degree Centrality": 0.002717391304347826,
          "Eigenvector Centrality": -4.657615413729838e-16,
          "Katz Centrality": 0.036798286165752536
         },
         {
          "Betweenness Centrality": 0,
          "Degree Centrality": 0.002717391304347826,
          "Eigenvector Centrality": -4.640599309538466e-16,
          "Katz Centrality": 0.036798286165752536
         },
         {
          "Betweenness Centrality": 0,
          "Degree Centrality": 0.002717391304347826,
          "Eigenvector Centrality": -4.64706819838646e-16,
          "Katz Centrality": 0.036798286165752536
         },
         {
          "Betweenness Centrality": 0,
          "Degree Centrality": 0.002717391304347826,
          "Eigenvector Centrality": -4.629922853097809e-16,
          "Katz Centrality": 0.036798286165752536
         },
         {
          "Betweenness Centrality": 0,
          "Degree Centrality": 0.002717391304347826,
          "Eigenvector Centrality": -4.600574639623801e-16,
          "Katz Centrality": 0.036798286165752536
         },
         {
          "Betweenness Centrality": 0,
          "Degree Centrality": 0.002717391304347826,
          "Eigenvector Centrality": -4.528593248761003e-16,
          "Katz Centrality": 0.036798286165752536
         },
         {
          "Betweenness Centrality": 0,
          "Degree Centrality": 0.002717391304347826,
          "Eigenvector Centrality": -4.680825868924248e-16,
          "Katz Centrality": 0.036798286165752536
         },
         {
          "Betweenness Centrality": 0,
          "Degree Centrality": 0.002717391304347826,
          "Eigenvector Centrality": -4.629260591961018e-16,
          "Katz Centrality": 0.036798286165752536
         },
         {
          "Betweenness Centrality": 0,
          "Degree Centrality": 0.002717391304347826,
          "Eigenvector Centrality": -4.5734150990312845e-16,
          "Katz Centrality": 0.036798286165752536
         },
         {
          "Betweenness Centrality": 0,
          "Degree Centrality": 0.002717391304347826,
          "Eigenvector Centrality": -4.580893435234864e-16,
          "Katz Centrality": 0.036798286165752536
         },
         {
          "Betweenness Centrality": 0,
          "Degree Centrality": 0.002717391304347826,
          "Eigenvector Centrality": -4.681358888963761e-16,
          "Katz Centrality": 0.036798286165752536
         },
         {
          "Betweenness Centrality": 0,
          "Degree Centrality": 0.002717391304347826,
          "Eigenvector Centrality": -4.615386015283282e-16,
          "Katz Centrality": 0.036798286165752536
         },
         {
          "Betweenness Centrality": 0,
          "Degree Centrality": 0.002717391304347826,
          "Eigenvector Centrality": -4.567349989125525e-16,
          "Katz Centrality": 0.036798286165752536
         },
         {
          "Betweenness Centrality": 0,
          "Degree Centrality": 0.002717391304347826,
          "Eigenvector Centrality": -4.667888091228261e-16,
          "Katz Centrality": 0.036798286165752536
         },
         {
          "Betweenness Centrality": 0,
          "Degree Centrality": 0.002717391304347826,
          "Eigenvector Centrality": -4.534529117569483e-16,
          "Katz Centrality": 0.036798286165752536
         },
         {
          "Betweenness Centrality": 0,
          "Degree Centrality": 0.002717391304347826,
          "Eigenvector Centrality": -4.609175608629846e-16,
          "Katz Centrality": 0.036798286165752536
         },
         {
          "Betweenness Centrality": 0,
          "Degree Centrality": 0.002717391304347826,
          "Eigenvector Centrality": -4.573156616836727e-16,
          "Katz Centrality": 0.036798286165752536
         },
         {
          "Betweenness Centrality": 0,
          "Degree Centrality": 0.002717391304347826,
          "Eigenvector Centrality": -4.632329471100816e-16,
          "Katz Centrality": 0.036798286165752536
         },
         {
          "Betweenness Centrality": 0,
          "Degree Centrality": 0.002717391304347826,
          "Eigenvector Centrality": -4.4401287737463454e-16,
          "Katz Centrality": 0.036798286165752536
         },
         {
          "Betweenness Centrality": 0,
          "Degree Centrality": 0.002717391304347826,
          "Eigenvector Centrality": -4.604911448313743e-16,
          "Katz Centrality": 0.036798286165752536
         },
         {
          "Betweenness Centrality": 0,
          "Degree Centrality": 0.002717391304347826,
          "Eigenvector Centrality": -4.559944301295784e-16,
          "Katz Centrality": 0.036798286165752536
         },
         {
          "Betweenness Centrality": 0,
          "Degree Centrality": 0.002717391304347826,
          "Eigenvector Centrality": -4.589567052614748e-16,
          "Katz Centrality": 0.036798286165752536
         },
         {
          "Betweenness Centrality": 0,
          "Degree Centrality": 0.002717391304347826,
          "Eigenvector Centrality": -4.568286788107272e-16,
          "Katz Centrality": 0.036798286165752536
         },
         {
          "Betweenness Centrality": 0,
          "Degree Centrality": 0.002717391304347826,
          "Eigenvector Centrality": -4.597101981541767e-16,
          "Katz Centrality": 0.036798286165752536
         },
         {
          "Betweenness Centrality": 0,
          "Degree Centrality": 0.002717391304347826,
          "Eigenvector Centrality": -4.51451678261215e-16,
          "Katz Centrality": 0.036798286165752536
         },
         {
          "Betweenness Centrality": 0.0031098211112427438,
          "Degree Centrality": 0.057065217391304345,
          "Eigenvector Centrality": -8.713328481761463e-16,
          "Katz Centrality": 0.08976347946186548
         },
         {
          "Betweenness Centrality": 0,
          "Degree Centrality": 0.002717391304347826,
          "Eigenvector Centrality": -1.7987114999774417e-16,
          "Katz Centrality": 0.031851557228403875
         },
         {
          "Betweenness Centrality": 0,
          "Degree Centrality": 0.002717391304347826,
          "Eigenvector Centrality": -1.7288273454313107e-16,
          "Katz Centrality": 0.031851557228403875
         },
         {
          "Betweenness Centrality": 0,
          "Degree Centrality": 0.002717391304347826,
          "Eigenvector Centrality": -1.630804933379101e-16,
          "Katz Centrality": 0.031851557228403875
         },
         {
          "Betweenness Centrality": 0,
          "Degree Centrality": 0.002717391304347826,
          "Eigenvector Centrality": -1.7721833905929316e-16,
          "Katz Centrality": 0.031851557228403875
         },
         {
          "Betweenness Centrality": 0,
          "Degree Centrality": 0.002717391304347826,
          "Eigenvector Centrality": -1.8042087460023034e-16,
          "Katz Centrality": 0.031851557228403875
         },
         {
          "Betweenness Centrality": 0,
          "Degree Centrality": 0.002717391304347826,
          "Eigenvector Centrality": -1.705383743712994e-16,
          "Katz Centrality": 0.031851557228403875
         },
         {
          "Betweenness Centrality": 0,
          "Degree Centrality": 0.002717391304347826,
          "Eigenvector Centrality": -1.6850291901842362e-16,
          "Katz Centrality": 0.031851557228403875
         },
         {
          "Betweenness Centrality": 0,
          "Degree Centrality": 0.002717391304347826,
          "Eigenvector Centrality": -1.7574194271233988e-16,
          "Katz Centrality": 0.031851557228403875
         },
         {
          "Betweenness Centrality": 0,
          "Degree Centrality": 0.002717391304347826,
          "Eigenvector Centrality": -1.748213316314767e-16,
          "Katz Centrality": 0.031851557228403875
         },
         {
          "Betweenness Centrality": 0,
          "Degree Centrality": 0.002717391304347826,
          "Eigenvector Centrality": -1.7514205175985742e-16,
          "Katz Centrality": 0.031851557228403875
         },
         {
          "Betweenness Centrality": 0,
          "Degree Centrality": 0.002717391304347826,
          "Eigenvector Centrality": -1.7278774514902337e-16,
          "Katz Centrality": 0.031851557228403875
         },
         {
          "Betweenness Centrality": 0,
          "Degree Centrality": 0.002717391304347826,
          "Eigenvector Centrality": -1.754173368085607e-16,
          "Katz Centrality": 0.031851557228403875
         },
         {
          "Betweenness Centrality": 0,
          "Degree Centrality": 0.002717391304347826,
          "Eigenvector Centrality": -1.7300498697478044e-16,
          "Katz Centrality": 0.031851557228403875
         },
         {
          "Betweenness Centrality": 0,
          "Degree Centrality": 0.002717391304347826,
          "Eigenvector Centrality": -1.7931779297656608e-16,
          "Katz Centrality": 0.031851557228403875
         },
         {
          "Betweenness Centrality": 0,
          "Degree Centrality": 0.002717391304347826,
          "Eigenvector Centrality": -1.7131452716842553e-16,
          "Katz Centrality": 0.031851557228403875
         },
         {
          "Betweenness Centrality": 0,
          "Degree Centrality": 0.002717391304347826,
          "Eigenvector Centrality": -1.7589190228519136e-16,
          "Katz Centrality": 0.031851557228403875
         },
         {
          "Betweenness Centrality": 0,
          "Degree Centrality": 0.002717391304347826,
          "Eigenvector Centrality": -1.745056060787974e-16,
          "Katz Centrality": 0.031851557228403875
         },
         {
          "Betweenness Centrality": 0,
          "Degree Centrality": 0.002717391304347826,
          "Eigenvector Centrality": -1.722363523717447e-16,
          "Katz Centrality": 0.031851557228403875
         },
         {
          "Betweenness Centrality": 0,
          "Degree Centrality": 0.002717391304347826,
          "Eigenvector Centrality": -1.8059456016540854e-16,
          "Katz Centrality": 0.031851557228403875
         },
         {
          "Betweenness Centrality": 0,
          "Degree Centrality": 0.002717391304347826,
          "Eigenvector Centrality": -1.727235359403202e-16,
          "Katz Centrality": 0.031851557228403875
         },
         {
          "Betweenness Centrality": 0,
          "Degree Centrality": 0.002717391304347826,
          "Eigenvector Centrality": -1.746322509992582e-16,
          "Katz Centrality": 0.031851557228403875
         },
         {
          "Betweenness Centrality": 0.015326975476839238,
          "Degree Centrality": 0.125,
          "Eigenvector Centrality": 2.1694836812088104e-14,
          "Katz Centrality": 0.23722395398344456
         },
         {
          "Betweenness Centrality": 0,
          "Degree Centrality": 0.002717391304347826,
          "Eigenvector Centrality": 3.1880408581082045e-15,
          "Katz Centrality": 0.04659756238960518
         },
         {
          "Betweenness Centrality": 0,
          "Degree Centrality": 0.002717391304347826,
          "Eigenvector Centrality": 3.2036243100424602e-15,
          "Katz Centrality": 0.04659756238960518
         },
         {
          "Betweenness Centrality": 0,
          "Degree Centrality": 0.002717391304347826,
          "Eigenvector Centrality": 3.207681684602918e-15,
          "Katz Centrality": 0.04659756238960518
         },
         {
          "Betweenness Centrality": 0,
          "Degree Centrality": 0.002717391304347826,
          "Eigenvector Centrality": 3.1880408581082045e-15,
          "Katz Centrality": 0.04659756238960518
         },
         {
          "Betweenness Centrality": 0,
          "Degree Centrality": 0.002717391304347826,
          "Eigenvector Centrality": 3.1978612713555613e-15,
          "Katz Centrality": 0.04659756238960518
         },
         {
          "Betweenness Centrality": 0,
          "Degree Centrality": 0.002717391304347826,
          "Eigenvector Centrality": 3.1863351939817633e-15,
          "Katz Centrality": 0.04659756238960518
         },
         {
          "Betweenness Centrality": 0,
          "Degree Centrality": 0.002717391304347826,
          "Eigenvector Centrality": 3.1822778194213056e-15,
          "Katz Centrality": 0.04659756238960518
         },
         {
          "Betweenness Centrality": 0,
          "Degree Centrality": 0.002717391304347826,
          "Eigenvector Centrality": 3.1938038967951035e-15,
          "Katz Centrality": 0.04659756238960518
         },
         {
          "Betweenness Centrality": 0,
          "Degree Centrality": 0.002717391304347826,
          "Eigenvector Centrality": 3.1920982326686623e-15,
          "Katz Centrality": 0.04659756238960518
         },
         {
          "Betweenness Centrality": 0,
          "Degree Centrality": 0.002717391304347826,
          "Eigenvector Centrality": 3.2036243100424602e-15,
          "Katz Centrality": 0.04659756238960518
         },
         {
          "Betweenness Centrality": 0,
          "Degree Centrality": 0.002717391304347826,
          "Eigenvector Centrality": 3.2232651365371737e-15,
          "Katz Centrality": 0.04659756238960518
         },
         {
          "Betweenness Centrality": 0,
          "Degree Centrality": 0.002717391304347826,
          "Eigenvector Centrality": 3.1920982326686623e-15,
          "Katz Centrality": 0.04659756238960518
         },
         {
          "Betweenness Centrality": 0,
          "Degree Centrality": 0.002717391304347826,
          "Eigenvector Centrality": 3.2036243100424602e-15,
          "Katz Centrality": 0.04659756238960518
         },
         {
          "Betweenness Centrality": 0,
          "Degree Centrality": 0.002717391304347826,
          "Eigenvector Centrality": 3.1978612713555613e-15,
          "Katz Centrality": 0.04659756238960518
         },
         {
          "Betweenness Centrality": 0,
          "Degree Centrality": 0.002717391304347826,
          "Eigenvector Centrality": 3.1978612713555613e-15,
          "Katz Centrality": 0.04659756238960518
         },
         {
          "Betweenness Centrality": 0,
          "Degree Centrality": 0.002717391304347826,
          "Eigenvector Centrality": 3.219207761976716e-15,
          "Katz Centrality": 0.04659756238960518
         },
         {
          "Betweenness Centrality": 0,
          "Degree Centrality": 0.002717391304347826,
          "Eigenvector Centrality": 3.1822778194213056e-15,
          "Katz Centrality": 0.04659756238960518
         },
         {
          "Betweenness Centrality": 0,
          "Degree Centrality": 0.002717391304347826,
          "Eigenvector Centrality": 3.1920982326686623e-15,
          "Katz Centrality": 0.04659756238960518
         },
         {
          "Betweenness Centrality": 0,
          "Degree Centrality": 0.002717391304347826,
          "Eigenvector Centrality": 3.2036243100424602e-15,
          "Katz Centrality": 0.04659756238960518
         },
         {
          "Betweenness Centrality": 0,
          "Degree Centrality": 0.002717391304347826,
          "Eigenvector Centrality": 3.1822778194213056e-15,
          "Katz Centrality": 0.04659756238960518
         },
         {
          "Betweenness Centrality": 0,
          "Degree Centrality": 0.002717391304347826,
          "Eigenvector Centrality": 3.1978612713555613e-15,
          "Katz Centrality": 0.04659756238960518
         },
         {
          "Betweenness Centrality": 0,
          "Degree Centrality": 0.002717391304347826,
          "Eigenvector Centrality": 3.172457406173949e-15,
          "Katz Centrality": 0.04659756238960518
         },
         {
          "Betweenness Centrality": 0,
          "Degree Centrality": 0.002717391304347826,
          "Eigenvector Centrality": 3.1880408581082045e-15,
          "Katz Centrality": 0.04659756238960518
         },
         {
          "Betweenness Centrality": 0,
          "Degree Centrality": 0.002717391304347826,
          "Eigenvector Centrality": 3.1920982326686623e-15,
          "Katz Centrality": 0.04659756238960518
         },
         {
          "Betweenness Centrality": 0,
          "Degree Centrality": 0.002717391304347826,
          "Eigenvector Centrality": 3.2036243100424602e-15,
          "Katz Centrality": 0.04659756238960518
         },
         {
          "Betweenness Centrality": 0,
          "Degree Centrality": 0.002717391304347826,
          "Eigenvector Centrality": 3.1978612713555613e-15,
          "Katz Centrality": 0.04659756238960518
         },
         {
          "Betweenness Centrality": 0,
          "Degree Centrality": 0.002717391304347826,
          "Eigenvector Centrality": 3.1822778194213056e-15,
          "Katz Centrality": 0.04659756238960518
         },
         {
          "Betweenness Centrality": 0,
          "Degree Centrality": 0.002717391304347826,
          "Eigenvector Centrality": 3.1822778194213056e-15,
          "Katz Centrality": 0.04659756238960518
         },
         {
          "Betweenness Centrality": 0,
          "Degree Centrality": 0.002717391304347826,
          "Eigenvector Centrality": 3.201918645916019e-15,
          "Katz Centrality": 0.04659756238960518
         },
         {
          "Betweenness Centrality": 0,
          "Degree Centrality": 0.002717391304347826,
          "Eigenvector Centrality": 3.1863351939817633e-15,
          "Katz Centrality": 0.04659756238960518
         },
         {
          "Betweenness Centrality": 0,
          "Degree Centrality": 0.002717391304347826,
          "Eigenvector Centrality": 3.1978612713555613e-15,
          "Katz Centrality": 0.04659756238960518
         },
         {
          "Betweenness Centrality": 0,
          "Degree Centrality": 0.002717391304347826,
          "Eigenvector Centrality": 3.1938038967951035e-15,
          "Katz Centrality": 0.04659756238960518
         },
         {
          "Betweenness Centrality": 0,
          "Degree Centrality": 0.002717391304347826,
          "Eigenvector Centrality": 3.1978612713555613e-15,
          "Katz Centrality": 0.04659756238960518
         },
         {
          "Betweenness Centrality": 0,
          "Degree Centrality": 0.002717391304347826,
          "Eigenvector Centrality": 3.207681684602918e-15,
          "Katz Centrality": 0.04659756238960518
         },
         {
          "Betweenness Centrality": 0,
          "Degree Centrality": 0.002717391304347826,
          "Eigenvector Centrality": 3.1920982326686623e-15,
          "Katz Centrality": 0.04659756238960518
         },
         {
          "Betweenness Centrality": 0,
          "Degree Centrality": 0.002717391304347826,
          "Eigenvector Centrality": 3.1880408581082045e-15,
          "Katz Centrality": 0.04659756238960518
         },
         {
          "Betweenness Centrality": 0,
          "Degree Centrality": 0.002717391304347826,
          "Eigenvector Centrality": 3.1880408581082045e-15,
          "Katz Centrality": 0.04659756238960518
         },
         {
          "Betweenness Centrality": 0,
          "Degree Centrality": 0.002717391304347826,
          "Eigenvector Centrality": 3.201918645916019e-15,
          "Katz Centrality": 0.04659756238960518
         },
         {
          "Betweenness Centrality": 0,
          "Degree Centrality": 0.002717391304347826,
          "Eigenvector Centrality": 3.1920982326686623e-15,
          "Katz Centrality": 0.04659756238960518
         },
         {
          "Betweenness Centrality": 0,
          "Degree Centrality": 0.002717391304347826,
          "Eigenvector Centrality": 3.207681684602918e-15,
          "Katz Centrality": 0.04659756238960518
         },
         {
          "Betweenness Centrality": 0,
          "Degree Centrality": 0.002717391304347826,
          "Eigenvector Centrality": 3.1765147807344066e-15,
          "Katz Centrality": 0.04659756238960518
         },
         {
          "Betweenness Centrality": 0,
          "Degree Centrality": 0.002717391304347826,
          "Eigenvector Centrality": 3.1978612713555613e-15,
          "Katz Centrality": 0.04659756238960518
         },
         {
          "Betweenness Centrality": 0,
          "Degree Centrality": 0.002717391304347826,
          "Eigenvector Centrality": 3.1880408581082045e-15,
          "Katz Centrality": 0.04659756238960518
         },
         {
          "Betweenness Centrality": 0,
          "Degree Centrality": 0.002717391304347826,
          "Eigenvector Centrality": 3.1765147807344066e-15,
          "Katz Centrality": 0.04659756238960518
         },
         {
          "Betweenness Centrality": 0,
          "Degree Centrality": 0.002717391304347826,
          "Eigenvector Centrality": 3.213444723289817e-15,
          "Katz Centrality": 0.04659756238960518
         },
         {
          "Betweenness Centrality": 0,
          "Degree Centrality": 0.002717391304347826,
          "Eigenvector Centrality": 3.16669436748705e-15,
          "Katz Centrality": 0.04659756238960518
         },
         {
          "Betweenness Centrality": 0.010410496386684042,
          "Degree Centrality": 0.10326086956521739,
          "Eigenvector Centrality": 2.7664135954903525e-15,
          "Katz Centrality": 0.17709838172207984
         },
         {
          "Betweenness Centrality": 0,
          "Degree Centrality": 0.002717391304347826,
          "Eigenvector Centrality": 4.4176897149003303e-16,
          "Katz Centrality": 0.04058504581130995
         },
         {
          "Betweenness Centrality": 0,
          "Degree Centrality": 0.002717391304347826,
          "Eigenvector Centrality": 4.3568290964934643e-16,
          "Katz Centrality": 0.04058504581130995
         },
         {
          "Betweenness Centrality": 0,
          "Degree Centrality": 0.002717391304347826,
          "Eigenvector Centrality": 4.4262180355325366e-16,
          "Katz Centrality": 0.04058504581130995
         },
         {
          "Betweenness Centrality": 0,
          "Degree Centrality": 0.002717391304347826,
          "Eigenvector Centrality": 4.348300775861258e-16,
          "Katz Centrality": 0.04058504581130995
         },
         {
          "Betweenness Centrality": 0,
          "Degree Centrality": 0.002717391304347826,
          "Eigenvector Centrality": 4.053688378440556e-16,
          "Katz Centrality": 0.04058504581130995
         },
         {
          "Betweenness Centrality": 0,
          "Degree Centrality": 0.002717391304347826,
          "Eigenvector Centrality": 4.2991987096244745e-16,
          "Katz Centrality": 0.04058504581130995
         },
         {
          "Betweenness Centrality": 0,
          "Degree Centrality": 0.002717391304347826,
          "Eigenvector Centrality": 4.2991987096244745e-16,
          "Katz Centrality": 0.04058504581130995
         },
         {
          "Betweenness Centrality": 0,
          "Degree Centrality": 0.002717391304347826,
          "Eigenvector Centrality": 4.290670388992268e-16,
          "Katz Centrality": 0.04058504581130995
         },
         {
          "Betweenness Centrality": 0,
          "Degree Centrality": 0.002717391304347826,
          "Eigenvector Centrality": 4.2991987096244745e-16,
          "Katz Centrality": 0.04058504581130995
         },
         {
          "Betweenness Centrality": 0,
          "Degree Centrality": 0.002717391304347826,
          "Eigenvector Centrality": 4.3568290964934643e-16,
          "Katz Centrality": 0.04058504581130995
         },
         {
          "Betweenness Centrality": 0,
          "Degree Centrality": 0.002717391304347826,
          "Eigenvector Centrality": 4.2991987096244745e-16,
          "Katz Centrality": 0.04058504581130995
         },
         {
          "Betweenness Centrality": 0,
          "Degree Centrality": 0.002717391304347826,
          "Eigenvector Centrality": 4.348300775861258e-16,
          "Katz Centrality": 0.04058504581130995
         },
         {
          "Betweenness Centrality": 0,
          "Degree Centrality": 0.002717391304347826,
          "Eigenvector Centrality": 4.2212814499531955e-16,
          "Katz Centrality": 0.04058504581130995
         },
         {
          "Betweenness Centrality": 0,
          "Degree Centrality": 0.002717391304347826,
          "Eigenvector Centrality": 4.2991987096244745e-16,
          "Katz Centrality": 0.04058504581130995
         },
         {
          "Betweenness Centrality": 0,
          "Degree Centrality": 0.002717391304347826,
          "Eigenvector Centrality": 4.377115969295753e-16,
          "Katz Centrality": 0.04058504581130995
         },
         {
          "Betweenness Centrality": 0,
          "Degree Centrality": 0.002717391304347826,
          "Eigenvector Centrality": 4.278911836822186e-16,
          "Katz Centrality": 0.04058504581130995
         },
         {
          "Betweenness Centrality": 0,
          "Degree Centrality": 0.002717391304347826,
          "Eigenvector Centrality": 4.348300775861258e-16,
          "Katz Centrality": 0.04058504581130995
         },
         {
          "Betweenness Centrality": 0,
          "Degree Centrality": 0.002717391304347826,
          "Eigenvector Centrality": 4.3568290964934643e-16,
          "Katz Centrality": 0.04058504581130995
         },
         {
          "Betweenness Centrality": 0,
          "Degree Centrality": 0.002717391304347826,
          "Eigenvector Centrality": 4.377115969295753e-16,
          "Katz Centrality": 0.04058504581130995
         },
         {
          "Betweenness Centrality": 0,
          "Degree Centrality": 0.002717391304347826,
          "Eigenvector Centrality": 4.3974028420980416e-16,
          "Katz Centrality": 0.04058504581130995
         },
         {
          "Betweenness Centrality": 0,
          "Degree Centrality": 0.002717391304347826,
          "Eigenvector Centrality": 4.348300775861258e-16,
          "Katz Centrality": 0.04058504581130995
         },
         {
          "Betweenness Centrality": 0,
          "Degree Centrality": 0.002717391304347826,
          "Eigenvector Centrality": 4.241568322755484e-16,
          "Katz Centrality": 0.04058504581130995
         },
         {
          "Betweenness Centrality": 0,
          "Degree Centrality": 0.002717391304347826,
          "Eigenvector Centrality": 4.3974028420980416e-16,
          "Katz Centrality": 0.04058504581130995
         },
         {
          "Betweenness Centrality": 0,
          "Degree Centrality": 0.002717391304347826,
          "Eigenvector Centrality": 4.200994577150907e-16,
          "Katz Centrality": 0.04058504581130995
         },
         {
          "Betweenness Centrality": 0,
          "Degree Centrality": 0.002717391304347826,
          "Eigenvector Centrality": 4.377115969295753e-16,
          "Katz Centrality": 0.04058504581130995
         },
         {
          "Betweenness Centrality": 0,
          "Degree Centrality": 0.002717391304347826,
          "Eigenvector Centrality": 4.229809770585402e-16,
          "Katz Centrality": 0.04058504581130995
         },
         {
          "Betweenness Centrality": 0,
          "Degree Centrality": 0.002717391304347826,
          "Eigenvector Centrality": 4.2500966433876904e-16,
          "Katz Centrality": 0.04058504581130995
         },
         {
          "Betweenness Centrality": 0,
          "Degree Centrality": 0.002717391304347826,
          "Eigenvector Centrality": 4.3280139030589694e-16,
          "Katz Centrality": 0.04058504581130995
         },
         {
          "Betweenness Centrality": 0,
          "Degree Centrality": 0.002717391304347826,
          "Eigenvector Centrality": 4.3077270302566807e-16,
          "Katz Centrality": 0.04058504581130995
         },
         {
          "Betweenness Centrality": 0,
          "Degree Centrality": 0.002717391304347826,
          "Eigenvector Centrality": 4.172179383716412e-16,
          "Katz Centrality": 0.04058504581130995
         },
         {
          "Betweenness Centrality": 0,
          "Degree Centrality": 0.002717391304347826,
          "Eigenvector Centrality": 4.3568290964934643e-16,
          "Katz Centrality": 0.04058504581130995
         },
         {
          "Betweenness Centrality": 0,
          "Degree Centrality": 0.002717391304347826,
          "Eigenvector Centrality": 4.4059311627302484e-16,
          "Katz Centrality": 0.04058504581130995
         },
         {
          "Betweenness Centrality": 0,
          "Degree Centrality": 0.002717391304347826,
          "Eigenvector Centrality": 4.2991987096244745e-16,
          "Katz Centrality": 0.04058504581130995
         },
         {
          "Betweenness Centrality": 0,
          "Degree Centrality": 0.002717391304347826,
          "Eigenvector Centrality": 4.455033228967032e-16,
          "Katz Centrality": 0.04058504581130995
         },
         {
          "Betweenness Centrality": 0,
          "Degree Centrality": 0.002717391304347826,
          "Eigenvector Centrality": 4.446504908334826e-16,
          "Katz Centrality": 0.04058504581130995
         },
         {
          "Betweenness Centrality": 0,
          "Degree Centrality": 0.002717391304347826,
          "Eigenvector Centrality": 4.1027904446773396e-16,
          "Katz Centrality": 0.04058504581130995
         },
         {
          "Betweenness Centrality": 0,
          "Degree Centrality": 0.002717391304347826,
          "Eigenvector Centrality": 4.200994577150907e-16,
          "Katz Centrality": 0.04058504581130995
         },
         {
          "Betweenness Centrality": 0,
          "Degree Centrality": 0.002717391304347826,
          "Eigenvector Centrality": 4.371503159461552e-16,
          "Katz Centrality": 0.04058504581130995
         }
        ]
       },
       "encoding": {
        "color": {
         "field": "Centrality",
         "type": "nominal"
        },
        "x": {
         "bin": {
          "maxbins": 50
         },
         "field": "Measurement",
         "type": "quantitative"
        },
        "y": {
         "aggregate": "count",
         "stack": null,
         "type": "quantitative"
        }
       },
       "mark": {
        "interpolate": "step",
        "opacity": 0.7,
        "type": "area"
       },
       "transform": [
        {
         "as": [
          "Centrality",
          "Measurement"
         ],
         "fold": [
          "Degree Centrality",
          "Eigenvector Centrality",
          "Betweenness Centrality",
          "Katz Centrality"
         ]
        }
       ]
      },
      "image/png": "[encoded data removed]",
      "text/plain": [
       "<VegaLite 3 object>\n",
       "\n",
       "If you see this message, it means the renderer has not been properly enabled\n",
       "for the frontend that you are using. For more information, see\n",
       "https://altair-viz.github.io/user_guide/troubleshooting.html\n"
      ]
     },
     "execution_count": 114,
     "metadata": {},
     "output_type": "execute_result"
    }
   ],
   "source": [
    "# Generating Data\n",
    "source = pd.DataFrame({\n",
    "    'Degree Centrality': list(lDegCentrality.values()),\n",
    "    'Eigenvector Centrality': list(lEigenVectorCentrality.values()),\n",
    "    'Betweenness Centrality': list(lBetCentrality.values()),\n",
    "    'Katz Centrality': list(lKatzCentrality.values())\n",
    "})\n",
    "\n",
    "chart = alt.Chart(source).transform_fold(\n",
    "    ['Degree Centrality', 'Eigenvector Centrality', 'Betweenness Centrality', 'Katz Centrality'],\n",
    "    as_=['Centrality', 'Measurement']\n",
    ").mark_area(\n",
    "    opacity=0.7,\n",
    "    interpolate='step'\n",
    ").encode(\n",
    "    alt.X('Measurement:Q', bin=alt.Bin(maxbins=50)),\n",
    "    alt.Y('count()', stack=None),\n",
    "    alt.Color('Centrality:N')\n",
    ")\n",
    "\n",
    "chart.configure_legend(\n",
    "    strokeColor='gray',\n",
    "    fillColor='#EEEEEE',\n",
    "    padding=10,\n",
    "    cornerRadius=10,\n",
    "    orient='top-right'\n",
    ")"
   ]
  },
  {
   "cell_type": "code",
   "execution_count": 115,
   "metadata": {},
   "outputs": [],
   "source": [
    "weight_graphFile='weight_repo.graphml'\n",
    "with open(weight_graphFile, 'wb') as fOut:\n",
    "    nx.write_graphml(network_weight, fOut)"
   ]
  },
  {
   "cell_type": "code",
   "execution_count": null,
   "metadata": {},
   "outputs": [],
   "source": []
  }
 ],
 "metadata": {
  "kernelspec": {
   "display_name": "Python 3",
   "language": "python",
   "name": "python3"
  },
  "language_info": {
   "codemirror_mode": {
    "name": "ipython",
    "version": 3
   },
   "file_extension": ".py",
   "mimetype": "text/x-python",
   "name": "python",
   "nbconvert_exporter": "python",
   "pygments_lexer": "ipython3",
   "version": "3.6.8"
  }
 },
 "nbformat": 4,
 "nbformat_minor": 4
}
